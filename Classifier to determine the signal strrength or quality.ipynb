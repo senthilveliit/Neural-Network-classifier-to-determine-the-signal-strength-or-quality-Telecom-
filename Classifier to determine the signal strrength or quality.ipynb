{
  "nbformat": 4,
  "nbformat_minor": 0,
  "metadata": {
    "colab": {
      "provenance": []
    },
    "kernelspec": {
      "name": "python3",
      "display_name": "Python 3"
    },
    "language_info": {
      "name": "python"
    },
    "gpuClass": "standard"
  },
  "cells": [
    {
      "cell_type": "markdown",
      "source": [
        "### Part A - Q1 A - Read the ‘Signals.csv’ as DatFrame and import required libraries."
      ],
      "metadata": {
        "id": "d6n_pQdxJRNH"
      }
    },
    {
      "cell_type": "code",
      "source": [
        "import pandas as pd\n",
        "import numpy as np\n",
        "import seaborn as sns, h5py \n",
        "import matplotlib.pyplot as plt \n",
        "%matplotlib inline\n",
        "import matplotlib.pyplot as plt \n",
        "%matplotlib inline\n",
        "from sklearn.model_selection import train_test_split\n",
        "from scipy import stats\n",
        "from scipy.stats import zscore\n",
        "import tensorflow as tf\n",
        "from tensorflow.keras.utils import to_categorical\n",
        "from tensorflow.keras.models import Sequential\n",
        "from tensorflow.keras.layers import Dense\n",
        "from tensorflow.keras.layers import Dense, Input, Dropout,BatchNormalization\n",
        "from tensorflow.keras.wrappers.scikit_learn import KerasClassifier\n",
        "import random\n",
        "from tensorflow.keras import backend\n",
        "random.seed(1)\n",
        "tf.random.set_seed(1)\n",
        "import keras\n",
        "from keras.datasets import mnist\n",
        "from keras.models import Sequential,model_from_json\n",
        "from keras.layers import Dense\n",
        "from keras.optimizers import RMSprop\n",
        "from tensorflow.keras import optimizers\n",
        "from sklearn.model_selection import GridSearchCV\n",
        "from sklearn.model_selection import RandomizedSearchCV\n",
        "from tensorflow.keras.layers import Flatten, Dense, Activation, BatchNormalization, Dropout\n",
        "random.seed(1)\n",
        "np.random.seed(1) \n",
        "tf.random.set_seed(1)\n",
        "import warnings\n",
        "warnings.filterwarnings(\"ignore\")"
      ],
      "metadata": {
        "id": "c2NUD66w_lB6"
      },
      "execution_count": 264,
      "outputs": []
    },
    {
      "cell_type": "code",
      "source": [
        "from google.colab import drive\n",
        "drive.mount('/content/drive')"
      ],
      "metadata": {
        "colab": {
          "base_uri": "https://localhost:8080/"
        },
        "id": "-Hdgw12SBPTt",
        "outputId": "cae6c689-fd29-464e-80d9-7d959262dc06"
      },
      "execution_count": 265,
      "outputs": [
        {
          "output_type": "stream",
          "name": "stdout",
          "text": [
            "Drive already mounted at /content/drive; to attempt to forcibly remount, call drive.mount(\"/content/drive\", force_remount=True).\n"
          ]
        }
      ]
    },
    {
      "cell_type": "code",
      "source": [
        "import seaborn as sns, h5py\n",
        "path = '/content/drive/MyDrive/AI_Projects/NN Project Data - Signal.csv'\n",
        "df = pd.read_csv(path)"
      ],
      "metadata": {
        "id": "ljePKW61Bh34"
      },
      "execution_count": 266,
      "outputs": []
    },
    {
      "cell_type": "code",
      "source": [
        "df.shape"
      ],
      "metadata": {
        "colab": {
          "base_uri": "https://localhost:8080/"
        },
        "id": "e11VSc3SG52e",
        "outputId": "09d834db-27d3-4008-cb15-428325e9e06a"
      },
      "execution_count": 267,
      "outputs": [
        {
          "output_type": "execute_result",
          "data": {
            "text/plain": [
              "(1599, 12)"
            ]
          },
          "metadata": {},
          "execution_count": 267
        }
      ]
    },
    {
      "cell_type": "markdown",
      "source": [
        "### Part A - Q1 B - Check for missing values and print percentage for each attribute."
      ],
      "metadata": {
        "id": "JbVsfdHHG6L9"
      }
    },
    {
      "cell_type": "code",
      "source": [
        "percentage_missing = df.isnull().sum() * 100 / len(df)\n",
        "percentage_missing"
      ],
      "metadata": {
        "colab": {
          "base_uri": "https://localhost:8080/"
        },
        "id": "aFi7U1HtG6Z3",
        "outputId": "1394f067-b092-4593-f078-8c4347c4c48e"
      },
      "execution_count": 268,
      "outputs": [
        {
          "output_type": "execute_result",
          "data": {
            "text/plain": [
              "Parameter 1        0.0\n",
              "Parameter 2        0.0\n",
              "Parameter 3        0.0\n",
              "Parameter 4        0.0\n",
              "Parameter 5        0.0\n",
              "Parameter 6        0.0\n",
              "Parameter 7        0.0\n",
              "Parameter 8        0.0\n",
              "Parameter 9        0.0\n",
              "Parameter 10       0.0\n",
              "Parameter 11       0.0\n",
              "Signal_Strength    0.0\n",
              "dtype: float64"
            ]
          },
          "metadata": {},
          "execution_count": 268
        }
      ]
    },
    {
      "cell_type": "markdown",
      "source": [
        "### Part A - Q1 C - Check for presence of duplicate records in the dataset and impute with appropriate method."
      ],
      "metadata": {
        "id": "MIxtlJdqG6oq"
      }
    },
    {
      "cell_type": "code",
      "source": [
        "df.duplicated()"
      ],
      "metadata": {
        "colab": {
          "base_uri": "https://localhost:8080/"
        },
        "id": "6MaB_nYhG632",
        "outputId": "20081e7b-16ee-49c1-f4ab-f2b89d91cb5d"
      },
      "execution_count": 269,
      "outputs": [
        {
          "output_type": "execute_result",
          "data": {
            "text/plain": [
              "0       False\n",
              "1       False\n",
              "2       False\n",
              "3       False\n",
              "4        True\n",
              "        ...  \n",
              "1594    False\n",
              "1595    False\n",
              "1596     True\n",
              "1597    False\n",
              "1598    False\n",
              "Length: 1599, dtype: bool"
            ]
          },
          "metadata": {},
          "execution_count": 269
        }
      ]
    },
    {
      "cell_type": "code",
      "source": [
        "len(df)-len(df.drop_duplicates())"
      ],
      "metadata": {
        "colab": {
          "base_uri": "https://localhost:8080/"
        },
        "id": "gz4ZttswHvw7",
        "outputId": "bca1d504-2281-4dba-c730-6f01aa629073"
      },
      "execution_count": 270,
      "outputs": [
        {
          "output_type": "execute_result",
          "data": {
            "text/plain": [
              "240"
            ]
          },
          "metadata": {},
          "execution_count": 270
        }
      ]
    },
    {
      "cell_type": "code",
      "source": [
        "df.drop_duplicates(inplace = True)"
      ],
      "metadata": {
        "id": "fD-C48U_F7Vq"
      },
      "execution_count": 271,
      "outputs": []
    },
    {
      "cell_type": "code",
      "source": [
        "df.shape"
      ],
      "metadata": {
        "colab": {
          "base_uri": "https://localhost:8080/"
        },
        "id": "RjE-GbjXFWN9",
        "outputId": "01c911a3-e52f-46a4-f11d-1cfaf0d57f36"
      },
      "execution_count": 272,
      "outputs": [
        {
          "output_type": "execute_result",
          "data": {
            "text/plain": [
              "(1359, 12)"
            ]
          },
          "metadata": {},
          "execution_count": 272
        }
      ]
    },
    {
      "cell_type": "markdown",
      "source": [
        "### Part A - Q1 D - Visualise distribution of the target variable."
      ],
      "metadata": {
        "id": "FC0qbE1iHv87"
      }
    },
    {
      "cell_type": "code",
      "source": [
        "sns.distplot(df['Signal_Strength'], kde = True)\n",
        "plt.show()"
      ],
      "metadata": {
        "colab": {
          "base_uri": "https://localhost:8080/",
          "height": 450
        },
        "id": "wLEP5NESHwYU",
        "outputId": "ff50aade-66a4-4166-b218-06c28bf3df32"
      },
      "execution_count": 273,
      "outputs": [
        {
          "output_type": "display_data",
          "data": {
            "text/plain": [
              "<Figure size 640x480 with 1 Axes>"
            ],
            "image/png": "[encoded data removed]"
          },
          "metadata": {}
        }
      ]
    },
    {
      "cell_type": "code",
      "source": [
        "sns.boxplot(df['Signal_Strength'])\n",
        "plt.show()"
      ],
      "metadata": {
        "colab": {
          "base_uri": "https://localhost:8080/",
          "height": 430
        },
        "id": "toPtXsSO555Q",
        "outputId": "5716d5af-2d5e-4d41-873a-23abb267a400"
      },
      "execution_count": 274,
      "outputs": [
        {
          "output_type": "display_data",
          "data": {
            "text/plain": [
              "<Figure size 640x480 with 1 Axes>"
            ],
            "image/png": "[encoded data removed]"
          },
          "metadata": {}
        }
      ]
    },
    {
      "cell_type": "markdown",
      "source": [
        "#### Part A Q1 E: Share insights from the initial data analysis (at least 2)"
      ],
      "metadata": {
        "id": "LZ0JVMVyHOXp"
      }
    },
    {
      "cell_type": "markdown",
      "source": [
        "<li> Signal strength is highly distributed for parameters 5 and 6\n",
        "<li> Parameter 3 and 8 are the outliers"
      ],
      "metadata": {
        "id": "az_-BHokHeYl"
      }
    },
    {
      "cell_type": "markdown",
      "source": [
        "#### Part A Q2 A-Split the data into X & Y."
      ],
      "metadata": {
        "id": "faCwhv5dIA9Y"
      }
    },
    {
      "cell_type": "code",
      "source": [
        "x = df.drop('Signal_Strength',axis=1)     \n",
        "y = df['Signal_Strength']  "
      ],
      "metadata": {
        "id": "4HDoSRh9Hwry"
      },
      "execution_count": 275,
      "outputs": []
    },
    {
      "cell_type": "code",
      "source": [
        "x.shape"
      ],
      "metadata": {
        "colab": {
          "base_uri": "https://localhost:8080/"
        },
        "id": "qEzAl8keHw7T",
        "outputId": "7dbed2ba-4581-45d6-a384-8946207505ff"
      },
      "execution_count": 276,
      "outputs": [
        {
          "output_type": "execute_result",
          "data": {
            "text/plain": [
              "(1359, 11)"
            ]
          },
          "metadata": {},
          "execution_count": 276
        }
      ]
    },
    {
      "cell_type": "code",
      "source": [
        "y.shape"
      ],
      "metadata": {
        "colab": {
          "base_uri": "https://localhost:8080/"
        },
        "id": "YPzfO5EPHxQu",
        "outputId": "e3a19383-d1e0-40b6-881d-6fd65dc087f3"
      },
      "execution_count": 277,
      "outputs": [
        {
          "output_type": "execute_result",
          "data": {
            "text/plain": [
              "(1359,)"
            ]
          },
          "metadata": {},
          "execution_count": 277
        }
      ]
    },
    {
      "cell_type": "markdown",
      "source": [
        "### Part A - Q2 B - Split the data into train & test with 70:30 proportion."
      ],
      "metadata": {
        "id": "ZTywMHYRIkYi"
      }
    },
    {
      "cell_type": "code",
      "source": [
        "x_train, x_test, y_train, y_test = train_test_split(x, y, test_size=0.3, random_state=1)"
      ],
      "metadata": {
        "id": "Tjj0qx6kImL9"
      },
      "execution_count": 278,
      "outputs": []
    },
    {
      "cell_type": "markdown",
      "source": [
        "#### Part A - Q2 C-Print shape of all the 4 variables and verify if train and test data is in sync"
      ],
      "metadata": {
        "id": "3h12_sqCIVto"
      }
    },
    {
      "cell_type": "code",
      "source": [
        "x_train.shape"
      ],
      "metadata": {
        "colab": {
          "base_uri": "https://localhost:8080/"
        },
        "id": "IOgG4SM5ImkW",
        "outputId": "9a0cc2fc-c878-4089-edfd-2590352a1bc3"
      },
      "execution_count": 279,
      "outputs": [
        {
          "output_type": "execute_result",
          "data": {
            "text/plain": [
              "(951, 11)"
            ]
          },
          "metadata": {},
          "execution_count": 279
        }
      ]
    },
    {
      "cell_type": "code",
      "source": [
        "y_train.shape"
      ],
      "metadata": {
        "colab": {
          "base_uri": "https://localhost:8080/"
        },
        "id": "NpWWB8cDIm60",
        "outputId": "8e6bb0b1-da59-4169-b591-935ac5ca5b11"
      },
      "execution_count": 280,
      "outputs": [
        {
          "output_type": "execute_result",
          "data": {
            "text/plain": [
              "(951,)"
            ]
          },
          "metadata": {},
          "execution_count": 280
        }
      ]
    },
    {
      "cell_type": "code",
      "source": [
        "x_test.shape"
      ],
      "metadata": {
        "colab": {
          "base_uri": "https://localhost:8080/"
        },
        "id": "tqf30A0ZInTt",
        "outputId": "1fa501af-dcbb-4917-9320-8167f0724f57"
      },
      "execution_count": 281,
      "outputs": [
        {
          "output_type": "execute_result",
          "data": {
            "text/plain": [
              "(408, 11)"
            ]
          },
          "metadata": {},
          "execution_count": 281
        }
      ]
    },
    {
      "cell_type": "code",
      "source": [
        "y_train.shape"
      ],
      "metadata": {
        "colab": {
          "base_uri": "https://localhost:8080/"
        },
        "id": "tlDkonAJJt9Y",
        "outputId": "99df6697-1f01-45bc-b7da-5be7e66e0ba8"
      },
      "execution_count": 282,
      "outputs": [
        {
          "output_type": "execute_result",
          "data": {
            "text/plain": [
              "(951,)"
            ]
          },
          "metadata": {},
          "execution_count": 282
        }
      ]
    },
    {
      "cell_type": "code",
      "source": [
        "print(\"{0:0.2f}% data is in training set\".format((len(x_train)/len(df.index)) * 100))\n",
        "print(\"{0:0.2f}% data is in test set\".format((len(x_test)/len(df.index)) * 100))"
      ],
      "metadata": {
        "colab": {
          "base_uri": "https://localhost:8080/"
        },
        "id": "kUjHqRzoJu3K",
        "outputId": "c5d86483-3155-453d-c0be-7fab6a1ab11c"
      },
      "execution_count": 283,
      "outputs": [
        {
          "output_type": "stream",
          "name": "stdout",
          "text": [
            "69.98% data is in training set\n",
            "30.02% data is in test set\n"
          ]
        }
      ]
    },
    {
      "cell_type": "markdown",
      "source": [
        "### Part A - Q2 D - Normalise the train and test data with appropriate method."
      ],
      "metadata": {
        "id": "Z53xz_7ZJvMB"
      }
    },
    {
      "cell_type": "code",
      "source": [
        "xtrain_z = stats.zscore(x_train)\n"
      ],
      "metadata": {
        "id": "aIDeHut7Jvs5"
      },
      "execution_count": 284,
      "outputs": []
    },
    {
      "cell_type": "code",
      "source": [
        "xtest_z = stats.zscore(x_test)\n"
      ],
      "metadata": {
        "id": "yZldoPFhMnTf"
      },
      "execution_count": 285,
      "outputs": []
    },
    {
      "cell_type": "markdown",
      "source": [
        "#### Part A - Q2 E - Transform Labels into format acceptable by Neural Network"
      ],
      "metadata": {
        "id": "I4aQmuVzJ-0n"
      }
    },
    {
      "cell_type": "code",
      "source": [
        "num_classes = 11\n",
        "y_train1 = to_categorical(y_train, num_classes)\n",
        "y_test_cat = to_categorical(y_test,num_classes)\n",
        "y_test_cat[3]"
      ],
      "metadata": {
        "colab": {
          "base_uri": "https://localhost:8080/"
        },
        "id": "9aynQ9SVJ_S2",
        "outputId": "649c2576-c2e2-47a1-ccd7-d71982d52500"
      },
      "execution_count": 286,
      "outputs": [
        {
          "output_type": "execute_result",
          "data": {
            "text/plain": [
              "array([0., 0., 0., 0., 0., 0., 0., 1., 0., 0., 0.], dtype=float32)"
            ]
          },
          "metadata": {},
          "execution_count": 286
        }
      ]
    },
    {
      "cell_type": "markdown",
      "source": [
        "#### Part A - Q3 A - Design a Neural Network to train a classifier.\n"
      ],
      "metadata": {
        "id": "MNGl5G_zJ_wY"
      }
    },
    {
      "cell_type": "code",
      "source": [
        "epochs = 50\n",
        "learning_rate = 0.0001  \n",
        "adam = optimizers.Adam(learning_rate = learning_rate, beta_1 = 0.9, beta_2 = 0.999, epsilon = 1e-8)\n",
        "input_dim = xtrain_z.shape[1]\n",
        "sv_model_lr = Sequential()\n",
        "sv_model_lr.add(Flatten())\n",
        "sv_model_lr.add(Dense(128, input_dim = input_dim))\n",
        "sv_model_lr.add(Activation('relu'))\n",
        "sv_model_lr.add(Dense(128, input_dim = input_dim))\n",
        "sv_model_lr.add(Activation('relu'))\n",
        "sv_model_lr.add(Dense(128, input_dim = input_dim))\n",
        "sv_model_lr.add(Activation('relu'))\n",
        "sv_model_lr.add(Dense(128, input_dim = input_dim))\n",
        "sv_model_lr.add(Activation('relu'))\n",
        "sv_model_lr.add(Dense(num_classes))\n",
        "sv_model_lr.add(Activation('softmax'))\n",
        "sv_model_lr.compile(loss = 'categorical_crossentropy', optimizer = adam, metrics = ['accuracy'])"
      ],
      "metadata": {
        "id": "Y8xmFwBamTTK"
      },
      "execution_count": 287,
      "outputs": []
    },
    {
      "cell_type": "markdown",
      "source": [
        "### Part A - Q3 B - Train the classifier using previously designed Architecture"
      ],
      "metadata": {
        "id": "q1NzPZMCKAvo"
      }
    },
    {
      "cell_type": "code",
      "source": [
        "history=sv_model_lr.fit(xtrain_z, y_train1,validation_split=0.2,epochs=50, batch_size=32,verbose=1)"
      ],
      "metadata": {
        "colab": {
          "base_uri": "https://localhost:8080/"
        },
        "id": "Bd8K_HP5KBNX",
        "outputId": "6ed4a69f-9f99-4e00-add7-e4141f46e8b2"
      },
      "execution_count": 288,
      "outputs": [
        {
          "output_type": "stream",
          "name": "stdout",
          "text": [
            "Epoch 1/50\n",
            "24/24 [==============================] - 2s 14ms/step - loss: 2.2931 - accuracy: 0.3487 - val_loss: 2.1889 - val_accuracy: 0.4241\n",
            "Epoch 2/50\n",
            "24/24 [==============================] - 0s 7ms/step - loss: 2.0578 - accuracy: 0.4421 - val_loss: 1.9462 - val_accuracy: 0.4293\n",
            "Epoch 3/50\n",
            "24/24 [==============================] - 0s 5ms/step - loss: 1.7680 - accuracy: 0.4487 - val_loss: 1.6755 - val_accuracy: 0.4450\n",
            "Epoch 4/50\n",
            "24/24 [==============================] - 0s 5ms/step - loss: 1.4816 - accuracy: 0.4776 - val_loss: 1.4842 - val_accuracy: 0.5236\n",
            "Epoch 5/50\n",
            "24/24 [==============================] - 0s 5ms/step - loss: 1.2888 - accuracy: 0.5592 - val_loss: 1.3889 - val_accuracy: 0.5026\n",
            "Epoch 6/50\n",
            "24/24 [==============================] - 0s 5ms/step - loss: 1.1950 - accuracy: 0.5855 - val_loss: 1.3434 - val_accuracy: 0.5183\n",
            "Epoch 7/50\n",
            "24/24 [==============================] - 0s 5ms/step - loss: 1.1397 - accuracy: 0.5711 - val_loss: 1.2981 - val_accuracy: 0.5236\n",
            "Epoch 8/50\n",
            "24/24 [==============================] - 0s 5ms/step - loss: 1.0998 - accuracy: 0.6013 - val_loss: 1.2638 - val_accuracy: 0.5288\n",
            "Epoch 9/50\n",
            "24/24 [==============================] - 0s 5ms/step - loss: 1.0687 - accuracy: 0.5908 - val_loss: 1.2411 - val_accuracy: 0.5288\n",
            "Epoch 10/50\n",
            "24/24 [==============================] - 0s 4ms/step - loss: 1.0414 - accuracy: 0.6013 - val_loss: 1.2246 - val_accuracy: 0.5236\n",
            "Epoch 11/50\n",
            "24/24 [==============================] - 0s 4ms/step - loss: 1.0202 - accuracy: 0.6079 - val_loss: 1.2079 - val_accuracy: 0.5340\n",
            "Epoch 12/50\n",
            "24/24 [==============================] - 0s 5ms/step - loss: 1.0021 - accuracy: 0.6289 - val_loss: 1.1855 - val_accuracy: 0.5236\n",
            "Epoch 13/50\n",
            "24/24 [==============================] - 0s 4ms/step - loss: 0.9861 - accuracy: 0.6224 - val_loss: 1.1777 - val_accuracy: 0.5340\n",
            "Epoch 14/50\n",
            "24/24 [==============================] - 0s 6ms/step - loss: 0.9698 - accuracy: 0.6447 - val_loss: 1.1657 - val_accuracy: 0.5393\n",
            "Epoch 15/50\n",
            "24/24 [==============================] - 0s 6ms/step - loss: 0.9578 - accuracy: 0.6421 - val_loss: 1.1616 - val_accuracy: 0.5183\n",
            "Epoch 16/50\n",
            "24/24 [==============================] - 0s 5ms/step - loss: 0.9446 - accuracy: 0.6434 - val_loss: 1.1493 - val_accuracy: 0.5288\n",
            "Epoch 17/50\n",
            "24/24 [==============================] - 0s 3ms/step - loss: 0.9342 - accuracy: 0.6434 - val_loss: 1.1501 - val_accuracy: 0.5288\n",
            "Epoch 18/50\n",
            "24/24 [==============================] - 0s 4ms/step - loss: 0.9243 - accuracy: 0.6513 - val_loss: 1.1448 - val_accuracy: 0.5393\n",
            "Epoch 19/50\n",
            "24/24 [==============================] - 0s 5ms/step - loss: 0.9178 - accuracy: 0.6421 - val_loss: 1.1332 - val_accuracy: 0.5236\n",
            "Epoch 20/50\n",
            "24/24 [==============================] - 0s 4ms/step - loss: 0.9045 - accuracy: 0.6474 - val_loss: 1.1387 - val_accuracy: 0.5497\n",
            "Epoch 21/50\n",
            "24/24 [==============================] - 0s 3ms/step - loss: 0.8955 - accuracy: 0.6461 - val_loss: 1.1289 - val_accuracy: 0.5445\n",
            "Epoch 22/50\n",
            "24/24 [==============================] - 0s 4ms/step - loss: 0.8898 - accuracy: 0.6461 - val_loss: 1.1337 - val_accuracy: 0.5393\n",
            "Epoch 23/50\n",
            "24/24 [==============================] - 0s 3ms/step - loss: 0.8825 - accuracy: 0.6487 - val_loss: 1.1278 - val_accuracy: 0.5288\n",
            "Epoch 24/50\n",
            "24/24 [==============================] - 0s 4ms/step - loss: 0.8759 - accuracy: 0.6592 - val_loss: 1.1305 - val_accuracy: 0.5445\n",
            "Epoch 25/50\n",
            "24/24 [==============================] - 0s 3ms/step - loss: 0.8696 - accuracy: 0.6539 - val_loss: 1.1236 - val_accuracy: 0.5288\n",
            "Epoch 26/50\n",
            "24/24 [==============================] - 0s 4ms/step - loss: 0.8625 - accuracy: 0.6526 - val_loss: 1.1348 - val_accuracy: 0.5497\n",
            "Epoch 27/50\n",
            "24/24 [==============================] - 0s 3ms/step - loss: 0.8563 - accuracy: 0.6605 - val_loss: 1.1254 - val_accuracy: 0.5393\n",
            "Epoch 28/50\n",
            "24/24 [==============================] - 0s 3ms/step - loss: 0.8505 - accuracy: 0.6553 - val_loss: 1.1260 - val_accuracy: 0.5445\n",
            "Epoch 29/50\n",
            "24/24 [==============================] - 0s 4ms/step - loss: 0.8412 - accuracy: 0.6566 - val_loss: 1.1212 - val_accuracy: 0.5393\n",
            "Epoch 30/50\n",
            "24/24 [==============================] - 0s 3ms/step - loss: 0.8375 - accuracy: 0.6658 - val_loss: 1.1242 - val_accuracy: 0.5445\n",
            "Epoch 31/50\n",
            "24/24 [==============================] - 0s 4ms/step - loss: 0.8307 - accuracy: 0.6724 - val_loss: 1.1159 - val_accuracy: 0.5340\n",
            "Epoch 32/50\n",
            "24/24 [==============================] - 0s 4ms/step - loss: 0.8255 - accuracy: 0.6724 - val_loss: 1.1266 - val_accuracy: 0.5393\n",
            "Epoch 33/50\n",
            "24/24 [==============================] - 0s 3ms/step - loss: 0.8220 - accuracy: 0.6724 - val_loss: 1.1215 - val_accuracy: 0.5550\n",
            "Epoch 34/50\n",
            "24/24 [==============================] - 0s 4ms/step - loss: 0.8258 - accuracy: 0.6553 - val_loss: 1.1185 - val_accuracy: 0.5497\n",
            "Epoch 35/50\n",
            "24/24 [==============================] - 0s 4ms/step - loss: 0.8107 - accuracy: 0.6711 - val_loss: 1.1171 - val_accuracy: 0.5340\n",
            "Epoch 36/50\n",
            "24/24 [==============================] - 0s 3ms/step - loss: 0.8049 - accuracy: 0.6803 - val_loss: 1.1320 - val_accuracy: 0.5445\n",
            "Epoch 37/50\n",
            "24/24 [==============================] - 0s 4ms/step - loss: 0.8032 - accuracy: 0.6671 - val_loss: 1.1204 - val_accuracy: 0.5393\n",
            "Epoch 38/50\n",
            "24/24 [==============================] - 0s 3ms/step - loss: 0.7977 - accuracy: 0.6895 - val_loss: 1.1228 - val_accuracy: 0.5340\n",
            "Epoch 39/50\n",
            "24/24 [==============================] - 0s 3ms/step - loss: 0.7918 - accuracy: 0.6776 - val_loss: 1.1191 - val_accuracy: 0.5393\n",
            "Epoch 40/50\n",
            "24/24 [==============================] - 0s 4ms/step - loss: 0.7864 - accuracy: 0.6868 - val_loss: 1.1275 - val_accuracy: 0.5340\n",
            "Epoch 41/50\n",
            "24/24 [==============================] - 0s 4ms/step - loss: 0.7826 - accuracy: 0.6776 - val_loss: 1.1202 - val_accuracy: 0.5445\n",
            "Epoch 42/50\n",
            "24/24 [==============================] - 0s 3ms/step - loss: 0.7767 - accuracy: 0.6816 - val_loss: 1.1249 - val_accuracy: 0.5340\n",
            "Epoch 43/50\n",
            "24/24 [==============================] - 0s 3ms/step - loss: 0.7716 - accuracy: 0.6855 - val_loss: 1.1268 - val_accuracy: 0.5393\n",
            "Epoch 44/50\n",
            "24/24 [==============================] - 0s 3ms/step - loss: 0.7661 - accuracy: 0.6855 - val_loss: 1.1278 - val_accuracy: 0.5393\n",
            "Epoch 45/50\n",
            "24/24 [==============================] - 0s 4ms/step - loss: 0.7635 - accuracy: 0.6961 - val_loss: 1.1289 - val_accuracy: 0.5550\n",
            "Epoch 46/50\n",
            "24/24 [==============================] - 0s 4ms/step - loss: 0.7575 - accuracy: 0.6895 - val_loss: 1.1252 - val_accuracy: 0.5654\n",
            "Epoch 47/50\n",
            "24/24 [==============================] - 0s 3ms/step - loss: 0.7587 - accuracy: 0.6868 - val_loss: 1.1301 - val_accuracy: 0.5550\n",
            "Epoch 48/50\n",
            "24/24 [==============================] - 0s 4ms/step - loss: 0.7507 - accuracy: 0.6921 - val_loss: 1.1258 - val_accuracy: 0.5497\n",
            "Epoch 49/50\n",
            "24/24 [==============================] - 0s 3ms/step - loss: 0.7480 - accuracy: 0.6921 - val_loss: 1.1385 - val_accuracy: 0.5445\n",
            "Epoch 50/50\n",
            "24/24 [==============================] - 0s 4ms/step - loss: 0.7471 - accuracy: 0.6974 - val_loss: 1.1319 - val_accuracy: 0.5602\n"
          ]
        }
      ]
    },
    {
      "cell_type": "markdown",
      "source": [
        "### Part A - Q3 C - Plot 2 separate visuals. i. Training Loss and Validation Loss ii. Training Accuracy and Validation Accuracy\n"
      ],
      "metadata": {
        "id": "TNyRfCoJKBuC"
      }
    },
    {
      "cell_type": "code",
      "source": [
        "# learning history per epoch\n",
        "hist  = pd.DataFrame(history.history)\n",
        "hist['epoch'] = history.epoch\n",
        "\n",
        "# Plotting accuracy \n",
        "plt.plot(hist['loss'])\n",
        "plt.plot(hist['val_loss'])\n",
        "plt.legend((\"train\" , \"valid\") , loc =0)\n",
        "\n",
        "# results\n",
        "results = sv_model_lr.evaluate(xtest_z, y_test_cat)\n"
      ],
      "metadata": {
        "colab": {
          "base_uri": "https://localhost:8080/",
          "height": 447
        },
        "id": "lqFEIVZ2KCOn",
        "outputId": "6b0c56bb-7162-42ed-a6d7-ca0926de96db"
      },
      "execution_count": 289,
      "outputs": [
        {
          "output_type": "stream",
          "name": "stdout",
          "text": [
            "13/13 [==============================] - 0s 1ms/step - loss: 1.2118 - accuracy: 0.5515\n"
          ]
        },
        {
          "output_type": "display_data",
          "data": {
            "text/plain": [
              "<Figure size 640x480 with 1 Axes>"
            ],
            "image/png": "[encoded data removed]"
          },
          "metadata": {}
        }
      ]
    },
    {
      "cell_type": "markdown",
      "source": [
        "### Part A - Q3 D - Design new architecture/update existing architecture in attempt to improve the performance of the model.\n"
      ],
      "metadata": {
        "id": "7D7At_xjKDzX"
      }
    },
    {
      "cell_type": "code",
      "source": [
        "backend.clear_session()\n",
        "np.random.seed(42)\n",
        "import random\n",
        "random.seed(42)\n",
        "tf.random.set_seed(42)"
      ],
      "metadata": {
        "id": "LlBhRSQEKEd0"
      },
      "execution_count": 290,
      "outputs": []
    },
    {
      "cell_type": "code",
      "source": [
        "epochs = 50\n",
        "learning_rate = 0.0001   \n",
        "adam = optimizers.Adam(learning_rate = learning_rate, beta_1 = 0.9, beta_2 = 0.999, epsilon = 1e-8)\n",
        "input_dim = xtrain_z.shape[1]\n",
        "sv_model_lr1 = Sequential()\n",
        "sv_model_lr1.add(Flatten())\n",
        "sv_model_lr1.add(Dense(128, input_dim = input_dim))\n",
        "sv_model_lr1.add(Activation('relu'))\n",
        "sv_model_lr1.add(Dense(128, input_dim = input_dim))\n",
        "sv_model_lr1.add(Activation('relu'))\n",
        "sv_model_lr1.add(Dense(128, input_dim = input_dim))\n",
        "sv_model_lr1.add(Activation('relu'))\n",
        "sv_model_lr1.add(Dense(128, input_dim = input_dim))\n",
        "sv_model_lr1.add(Activation('relu'))\n",
        "sv_model_lr1.add(Dense(num_classes))\n",
        "sv_model_lr1.add(Activation('softmax'))\n",
        "sv_model_lr1.compile(loss = 'binary_crossentropy', optimizer = adam, metrics = ['accuracy'])"
      ],
      "metadata": {
        "id": "zLukVqlZnoYK"
      },
      "execution_count": 291,
      "outputs": []
    },
    {
      "cell_type": "code",
      "source": [
        "history1=sv_model_lr1.fit(xtrain_z, y_train1,validation_split=0.2,epochs=50,batch_size=32,verbose=1)"
      ],
      "metadata": {
        "colab": {
          "base_uri": "https://localhost:8080/"
        },
        "id": "i0enjbmKmp3r",
        "outputId": "d7cb708f-2d3c-4324-f75f-ddedb4ef3c54"
      },
      "execution_count": 292,
      "outputs": [
        {
          "output_type": "stream",
          "name": "stdout",
          "text": [
            "Epoch 1/50\n",
            "24/24 [==============================] - 1s 9ms/step - loss: 0.6474 - accuracy: 0.0947 - val_loss: 0.6201 - val_accuracy: 0.0995\n",
            "Epoch 2/50\n",
            "24/24 [==============================] - 0s 3ms/step - loss: 0.5886 - accuracy: 0.1961 - val_loss: 0.5470 - val_accuracy: 0.2356\n",
            "Epoch 3/50\n",
            "24/24 [==============================] - 0s 4ms/step - loss: 0.4996 - accuracy: 0.3526 - val_loss: 0.4418 - val_accuracy: 0.3927\n",
            "Epoch 4/50\n",
            "24/24 [==============================] - 0s 3ms/step - loss: 0.3848 - accuracy: 0.4974 - val_loss: 0.3311 - val_accuracy: 0.4188\n",
            "Epoch 5/50\n",
            "24/24 [==============================] - 0s 3ms/step - loss: 0.2848 - accuracy: 0.4974 - val_loss: 0.2594 - val_accuracy: 0.4764\n",
            "Epoch 6/50\n",
            "24/24 [==============================] - 0s 4ms/step - loss: 0.2279 - accuracy: 0.5566 - val_loss: 0.2275 - val_accuracy: 0.5183\n",
            "Epoch 7/50\n",
            "24/24 [==============================] - 0s 5ms/step - loss: 0.2024 - accuracy: 0.5566 - val_loss: 0.2137 - val_accuracy: 0.5393\n",
            "Epoch 8/50\n",
            "24/24 [==============================] - 0s 3ms/step - loss: 0.1902 - accuracy: 0.5513 - val_loss: 0.2060 - val_accuracy: 0.5288\n",
            "Epoch 9/50\n",
            "24/24 [==============================] - 0s 3ms/step - loss: 0.1826 - accuracy: 0.5789 - val_loss: 0.2002 - val_accuracy: 0.5393\n",
            "Epoch 10/50\n",
            "24/24 [==============================] - 0s 3ms/step - loss: 0.1772 - accuracy: 0.5711 - val_loss: 0.1958 - val_accuracy: 0.5236\n",
            "Epoch 11/50\n",
            "24/24 [==============================] - 0s 3ms/step - loss: 0.1724 - accuracy: 0.5724 - val_loss: 0.1915 - val_accuracy: 0.5288\n",
            "Epoch 12/50\n",
            "24/24 [==============================] - 0s 4ms/step - loss: 0.1687 - accuracy: 0.5829 - val_loss: 0.1876 - val_accuracy: 0.5288\n",
            "Epoch 13/50\n",
            "24/24 [==============================] - 0s 3ms/step - loss: 0.1651 - accuracy: 0.5855 - val_loss: 0.1853 - val_accuracy: 0.5393\n",
            "Epoch 14/50\n",
            "24/24 [==============================] - 0s 3ms/step - loss: 0.1623 - accuracy: 0.5895 - val_loss: 0.1826 - val_accuracy: 0.5288\n",
            "Epoch 15/50\n",
            "24/24 [==============================] - 0s 4ms/step - loss: 0.1596 - accuracy: 0.5974 - val_loss: 0.1803 - val_accuracy: 0.5497\n",
            "Epoch 16/50\n",
            "24/24 [==============================] - 0s 4ms/step - loss: 0.1574 - accuracy: 0.6145 - val_loss: 0.1795 - val_accuracy: 0.5550\n",
            "Epoch 17/50\n",
            "24/24 [==============================] - 0s 3ms/step - loss: 0.1555 - accuracy: 0.6158 - val_loss: 0.1783 - val_accuracy: 0.5602\n",
            "Epoch 18/50\n",
            "24/24 [==============================] - 0s 4ms/step - loss: 0.1539 - accuracy: 0.6224 - val_loss: 0.1778 - val_accuracy: 0.5654\n",
            "Epoch 19/50\n",
            "24/24 [==============================] - 0s 4ms/step - loss: 0.1523 - accuracy: 0.6250 - val_loss: 0.1766 - val_accuracy: 0.5654\n",
            "Epoch 20/50\n",
            "24/24 [==============================] - 0s 4ms/step - loss: 0.1512 - accuracy: 0.6224 - val_loss: 0.1766 - val_accuracy: 0.5602\n",
            "Epoch 21/50\n",
            "24/24 [==============================] - 0s 3ms/step - loss: 0.1501 - accuracy: 0.6250 - val_loss: 0.1764 - val_accuracy: 0.5602\n",
            "Epoch 22/50\n",
            "24/24 [==============================] - 0s 4ms/step - loss: 0.1490 - accuracy: 0.6224 - val_loss: 0.1752 - val_accuracy: 0.5654\n",
            "Epoch 23/50\n",
            "24/24 [==============================] - 0s 4ms/step - loss: 0.1476 - accuracy: 0.6184 - val_loss: 0.1763 - val_accuracy: 0.5602\n",
            "Epoch 24/50\n",
            "24/24 [==============================] - 0s 3ms/step - loss: 0.1470 - accuracy: 0.6250 - val_loss: 0.1754 - val_accuracy: 0.5707\n",
            "Epoch 25/50\n",
            "24/24 [==============================] - 0s 3ms/step - loss: 0.1459 - accuracy: 0.6237 - val_loss: 0.1757 - val_accuracy: 0.5602\n",
            "Epoch 26/50\n",
            "24/24 [==============================] - 0s 3ms/step - loss: 0.1451 - accuracy: 0.6276 - val_loss: 0.1759 - val_accuracy: 0.5654\n",
            "Epoch 27/50\n",
            "24/24 [==============================] - 0s 3ms/step - loss: 0.1442 - accuracy: 0.6316 - val_loss: 0.1751 - val_accuracy: 0.5707\n",
            "Epoch 28/50\n",
            "24/24 [==============================] - 0s 3ms/step - loss: 0.1435 - accuracy: 0.6276 - val_loss: 0.1747 - val_accuracy: 0.5654\n",
            "Epoch 29/50\n",
            "24/24 [==============================] - 0s 4ms/step - loss: 0.1433 - accuracy: 0.6434 - val_loss: 0.1748 - val_accuracy: 0.5445\n",
            "Epoch 30/50\n",
            "24/24 [==============================] - 0s 4ms/step - loss: 0.1423 - accuracy: 0.6289 - val_loss: 0.1754 - val_accuracy: 0.5654\n",
            "Epoch 31/50\n",
            "24/24 [==============================] - 0s 3ms/step - loss: 0.1418 - accuracy: 0.6329 - val_loss: 0.1761 - val_accuracy: 0.5654\n",
            "Epoch 32/50\n",
            "24/24 [==============================] - 0s 4ms/step - loss: 0.1408 - accuracy: 0.6408 - val_loss: 0.1750 - val_accuracy: 0.5445\n",
            "Epoch 33/50\n",
            "24/24 [==============================] - 0s 3ms/step - loss: 0.1403 - accuracy: 0.6421 - val_loss: 0.1751 - val_accuracy: 0.5445\n",
            "Epoch 34/50\n",
            "24/24 [==============================] - 0s 3ms/step - loss: 0.1401 - accuracy: 0.6461 - val_loss: 0.1759 - val_accuracy: 0.5393\n",
            "Epoch 35/50\n",
            "24/24 [==============================] - 0s 3ms/step - loss: 0.1392 - accuracy: 0.6461 - val_loss: 0.1756 - val_accuracy: 0.5707\n",
            "Epoch 36/50\n",
            "24/24 [==============================] - 0s 3ms/step - loss: 0.1385 - accuracy: 0.6316 - val_loss: 0.1751 - val_accuracy: 0.5497\n",
            "Epoch 37/50\n",
            "24/24 [==============================] - 0s 3ms/step - loss: 0.1379 - accuracy: 0.6461 - val_loss: 0.1753 - val_accuracy: 0.5497\n",
            "Epoch 38/50\n",
            "24/24 [==============================] - 0s 3ms/step - loss: 0.1376 - accuracy: 0.6395 - val_loss: 0.1756 - val_accuracy: 0.5550\n",
            "Epoch 39/50\n",
            "24/24 [==============================] - 0s 3ms/step - loss: 0.1368 - accuracy: 0.6500 - val_loss: 0.1754 - val_accuracy: 0.5497\n",
            "Epoch 40/50\n",
            "24/24 [==============================] - 0s 4ms/step - loss: 0.1363 - accuracy: 0.6487 - val_loss: 0.1756 - val_accuracy: 0.5497\n",
            "Epoch 41/50\n",
            "24/24 [==============================] - 0s 4ms/step - loss: 0.1366 - accuracy: 0.6539 - val_loss: 0.1771 - val_accuracy: 0.5445\n",
            "Epoch 42/50\n",
            "24/24 [==============================] - 0s 3ms/step - loss: 0.1356 - accuracy: 0.6526 - val_loss: 0.1752 - val_accuracy: 0.5340\n",
            "Epoch 43/50\n",
            "24/24 [==============================] - 0s 3ms/step - loss: 0.1353 - accuracy: 0.6539 - val_loss: 0.1757 - val_accuracy: 0.5445\n",
            "Epoch 44/50\n",
            "24/24 [==============================] - 0s 3ms/step - loss: 0.1345 - accuracy: 0.6645 - val_loss: 0.1755 - val_accuracy: 0.5340\n",
            "Epoch 45/50\n",
            "24/24 [==============================] - 0s 4ms/step - loss: 0.1339 - accuracy: 0.6605 - val_loss: 0.1759 - val_accuracy: 0.5393\n",
            "Epoch 46/50\n",
            "24/24 [==============================] - 0s 4ms/step - loss: 0.1337 - accuracy: 0.6566 - val_loss: 0.1761 - val_accuracy: 0.5340\n",
            "Epoch 47/50\n",
            "24/24 [==============================] - 0s 4ms/step - loss: 0.1330 - accuracy: 0.6645 - val_loss: 0.1759 - val_accuracy: 0.5393\n",
            "Epoch 48/50\n",
            "24/24 [==============================] - 0s 4ms/step - loss: 0.1326 - accuracy: 0.6592 - val_loss: 0.1757 - val_accuracy: 0.5393\n",
            "Epoch 49/50\n",
            "24/24 [==============================] - 0s 4ms/step - loss: 0.1327 - accuracy: 0.6658 - val_loss: 0.1771 - val_accuracy: 0.5602\n",
            "Epoch 50/50\n",
            "24/24 [==============================] - 0s 3ms/step - loss: 0.1317 - accuracy: 0.6618 - val_loss: 0.1767 - val_accuracy: 0.5288\n"
          ]
        }
      ]
    },
    {
      "cell_type": "markdown",
      "source": [
        "### Part A - Q3 E - Plot visuals as in Q3.C and share insights about difference observed in both the models.\n"
      ],
      "metadata": {
        "id": "HCFjvn9hKFGg"
      }
    },
    {
      "cell_type": "code",
      "source": [
        "plt.plot(history1.history['loss'])\n",
        "plt.plot(history1.history['val_loss'])\n",
        "plt.title('model loss')\n",
        "plt.ylabel('Loss')\n",
        "plt.xlabel('Epoch')\n",
        "plt.legend(['train', 'validation'], loc='upper left')\n",
        "results1 = sv_model_lr1.evaluate(xtest_z, y_test_cat)\n",
        "plt.show()\n"
      ],
      "metadata": {
        "colab": {
          "base_uri": "https://localhost:8080/",
          "height": 489
        },
        "id": "txaoTYiQnFRG",
        "outputId": "a5296dd9-db71-4842-b39a-28b2486464d4"
      },
      "execution_count": 293,
      "outputs": [
        {
          "output_type": "stream",
          "name": "stdout",
          "text": [
            "13/13 [==============================] - 0s 2ms/step - loss: 0.1764 - accuracy: 0.5539\n"
          ]
        },
        {
          "output_type": "display_data",
          "data": {
            "text/plain": [
              "<Figure size 640x480 with 1 Axes>"
            ],
            "image/png": "[encoded data removed]"
          },
          "metadata": {}
        }
      ]
    },
    {
      "cell_type": "markdown",
      "source": [
        "#### Insights\n",
        "<li> The loss for the first model was 1.2118 and accuracy was 0.5515.\n",
        "<li> The loss value got reduced from 1.2118 to 0.1764 and accuracy became 0.5539"
      ],
      "metadata": {
        "id": "ZTcdUDvcyChl"
      }
    },
    {
      "cell_type": "markdown",
      "source": [
        "### Part B - Q1 A - Read the .h5 file and assign to a variable.\n"
      ],
      "metadata": {
        "id": "HCnpyb3FyCqc"
      }
    },
    {
      "cell_type": "code",
      "source": [
        "path1 = '/content/drive/MyDrive/AI_Projects/Autonomous_Vehicles_SVHN_single_grey1.h5'\n",
        "df1 = h5py.File(path1, 'r')"
      ],
      "metadata": {
        "id": "zcRlq9bMyC3i"
      },
      "execution_count": 294,
      "outputs": []
    },
    {
      "cell_type": "markdown",
      "source": [
        "### Part B - Q1 B - Print all the keys from the .h5 file."
      ],
      "metadata": {
        "id": "BJpM-KtmyC7N"
      }
    },
    {
      "cell_type": "code",
      "source": [
        "print(df1.keys())"
      ],
      "metadata": {
        "id": "vCwxMv5XyC_O",
        "colab": {
          "base_uri": "https://localhost:8080/"
        },
        "outputId": "e9513fb4-e4dc-4a9d-ab4b-2e5f9fffd459"
      },
      "execution_count": 295,
      "outputs": [
        {
          "output_type": "stream",
          "name": "stdout",
          "text": [
            "<KeysViewHDF5 ['X_test', 'X_train', 'X_val', 'y_test', 'y_train', 'y_val']>\n"
          ]
        }
      ]
    },
    {
      "cell_type": "markdown",
      "source": [
        "### Part B - Q1 C - Split the data into X_train, X_test, Y_train, Y_test\n"
      ],
      "metadata": {
        "id": "h6xsTI2vyDCy"
      }
    },
    {
      "cell_type": "code",
      "source": [
        "X_trainb = df1['X_train'][:]\n",
        "y_trainb = df1['y_train'][:]\n",
        "X_valb = df1['X_val'][:]\n",
        "y_valb = df1['y_val'][:]\n",
        "X_testb = df1['X_test'][:]\n",
        "y_testb = df1['y_test'][:]\n",
        "df1.close()"
      ],
      "metadata": {
        "id": "ByCI991ByDGG"
      },
      "execution_count": 296,
      "outputs": []
    },
    {
      "cell_type": "markdown",
      "source": [
        "### Part B - Q2 A - Print shape of all the 4 data split into x, y, train, test to verify if x & y is in sync."
      ],
      "metadata": {
        "id": "QavBSdJCyDJD"
      }
    },
    {
      "cell_type": "code",
      "source": [
        "print('Training set', X_trainb.shape, y_trainb.shape)\n",
        "print('Test set', X_testb.shape, y_testb.shape)\n",
        "print('Validation set', X_valb.shape, y_valb.shape)"
      ],
      "metadata": {
        "id": "DeEdqMXZ1Qst",
        "colab": {
          "base_uri": "https://localhost:8080/"
        },
        "outputId": "133e965d-8393-4ba2-8661-b13bdde6bc66"
      },
      "execution_count": 297,
      "outputs": [
        {
          "output_type": "stream",
          "name": "stdout",
          "text": [
            "Training set (42000, 32, 32) (42000,)\n",
            "Test set (18000, 32, 32) (18000,)\n",
            "Validation set (60000, 32, 32) (60000,)\n"
          ]
        }
      ]
    },
    {
      "cell_type": "markdown",
      "source": [
        "### Part B - Q2 B - Visualise first 10 images in train data and print its corresponding labels."
      ],
      "metadata": {
        "id": "pYKwGtJG1bd9"
      }
    },
    {
      "cell_type": "code",
      "source": [
        "plt.figure(figsize = (15, 4.5))\n",
        "\n",
        "for i in range(10):\n",
        "    plt.subplot(1, 10, i+1)\n",
        "    plt.imshow(X_trainb[i].reshape((32, 32)),cmap = \"gray\")\n",
        "    plt.axis('off')\n",
        "\n",
        "plt.show()\n",
        "print('Corresponding labels:%s' % (y_trainb[0 : 10]))"
      ],
      "metadata": {
        "id": "39-09i-v1ebN",
        "colab": {
          "base_uri": "https://localhost:8080/",
          "height": 152
        },
        "outputId": "714d13a7-3224-4206-d99c-6fbead44c88d"
      },
      "execution_count": 298,
      "outputs": [
        {
          "output_type": "display_data",
          "data": {
            "text/plain": [
              "<Figure size 1500x450 with 10 Axes>"
            ],
            "image/png": "[encoded data removed]"
          },
          "metadata": {}
        },
        {
          "output_type": "stream",
          "name": "stdout",
          "text": [
            "Corresponding labels:[2 6 7 4 4 0 3 0 7 3]\n"
          ]
        }
      ]
    },
    {
      "cell_type": "markdown",
      "source": [
        "### Part B - Q2 C -Reshape all the images with appropriate shape update the data in same variable.\n"
      ],
      "metadata": {
        "id": "bInTuOrE1ely"
      }
    },
    {
      "cell_type": "code",
      "source": [
        "X_trainb = X_trainb.reshape(X_trainb.shape[0], 1024, 1)\n",
        "X_testb = X_testb.reshape(X_testb.shape[0], 1024, 1)\n",
        "X_valb = X_valb.reshape(X_valb.shape[0], 1024, 1)"
      ],
      "metadata": {
        "id": "ClvNThXB1enY"
      },
      "execution_count": 299,
      "outputs": []
    },
    {
      "cell_type": "code",
      "source": [
        "print('Resized Training set feature shape = ', X_trainb.shape, y_trainb.shape)\n",
        "print('Resized Test set feature shape = ', X_testb.shape, y_testb.shape)\n",
        "print('Resized Validation set feature shape = ', X_valb.shape, y_valb.shape)"
      ],
      "metadata": {
        "id": "6Hq855JU1epA",
        "colab": {
          "base_uri": "https://localhost:8080/"
        },
        "outputId": "16fa1da3-228b-4f06-b667-599b8e565ba4"
      },
      "execution_count": 300,
      "outputs": [
        {
          "output_type": "stream",
          "name": "stdout",
          "text": [
            "Resized Training set feature shape =  (42000, 1024, 1) (42000,)\n",
            "Resized Test set feature shape =  (18000, 1024, 1) (18000,)\n",
            "Resized Validation set feature shape =  (60000, 1024, 1) (60000,)\n"
          ]
        }
      ]
    },
    {
      "cell_type": "markdown",
      "source": [
        "#### Part B - Q2 D - Normalise the images i.e. Normalise the pixel values."
      ],
      "metadata": {
        "id": "l04YxPpWMrF2"
      }
    },
    {
      "cell_type": "code",
      "source": [
        "print('Normalizing the RGB codes by dividing it to the max RGB value'); print('--'*45)\n",
        "X_trainb /= 255\n",
        "X_valb /= 255\n",
        "X_testb /= 255"
      ],
      "metadata": {
        "id": "fcpHSHf61eqz",
        "colab": {
          "base_uri": "https://localhost:8080/"
        },
        "outputId": "63f2f865-0130-47cb-ae22-77187799ed02"
      },
      "execution_count": 301,
      "outputs": [
        {
          "output_type": "stream",
          "name": "stdout",
          "text": [
            "Normalizing the RGB codes by dividing it to the max RGB value\n",
            "------------------------------------------------------------------------------------------\n"
          ]
        }
      ]
    },
    {
      "cell_type": "markdown",
      "source": [
        "### Part B - Q2 E - Transform Labels into format acceptable by Neural Network\n"
      ],
      "metadata": {
        "id": "gZ5bd-_C1r4L"
      }
    },
    {
      "cell_type": "code",
      "source": [
        "num_classes = 10\n",
        "y_train2 = tf.keras.utils.to_categorical(y_trainb, num_classes = num_classes)\n",
        "y_test2 = tf.keras.utils.to_categorical(y_testb, num_classes = num_classes)\n",
        "y_val2 = tf.keras.utils.to_categorical(y_valb, num_classes = num_classes)\n",
        "\n",
        "print('Training set:', y_train2.shape)\n",
        "print('Test set:', y_test2.shape)\n",
        "print('Validation set:', y_val2.shape)"
      ],
      "metadata": {
        "id": "p3BGlR_f1sEA",
        "colab": {
          "base_uri": "https://localhost:8080/"
        },
        "outputId": "e9a20038-7bf3-45db-ef50-f4a6decde537"
      },
      "execution_count": 302,
      "outputs": [
        {
          "output_type": "stream",
          "name": "stdout",
          "text": [
            "Training set: (42000, 10)\n",
            "Test set: (18000, 10)\n",
            "Validation set: (60000, 10)\n"
          ]
        }
      ]
    },
    {
      "cell_type": "markdown",
      "source": [
        "### Part B - Q2 F - Print total Number of classes in the Dataset.\n"
      ],
      "metadata": {
        "id": "tqBxY4ts1sGM"
      }
    },
    {
      "cell_type": "code",
      "source": [
        "print('Unique labels in y_train:', np.unique(y_train2))\n",
        "print('Unique labels in y_val:', np.unique(y_val2))\n",
        "print('Unique labels in y_test:', np.unique(y_test2))"
      ],
      "metadata": {
        "id": "3SWPZIgq1sIO",
        "colab": {
          "base_uri": "https://localhost:8080/"
        },
        "outputId": "0a95de43-f61d-49aa-8396-d7ab3d1942ce"
      },
      "execution_count": 303,
      "outputs": [
        {
          "output_type": "stream",
          "name": "stdout",
          "text": [
            "Unique labels in y_train: [0. 1.]\n",
            "Unique labels in y_val: [0. 1.]\n",
            "Unique labels in y_test: [0. 1.]\n"
          ]
        }
      ]
    },
    {
      "cell_type": "markdown",
      "source": [
        "### Part B - Q3 A - Design a Neural Network to train a classifier.\n"
      ],
      "metadata": {
        "id": "qW9MmpG3164k"
      }
    },
    {
      "cell_type": "markdown",
      "source": [
        "##### Weight Initialization"
      ],
      "metadata": {
        "id": "wu3E6g5MdJ1w"
      }
    },
    {
      "cell_type": "code",
      "source": [
        "# from now on, create a function to generate (return) models\n",
        "def nn_model():\n",
        "    model = Sequential() \n",
        "    model.add(Dense(50, input_shape = (X_trainb.shape[1],), kernel_initializer='he_normal'))   \n",
        "    model.add(Activation('sigmoid'))    \n",
        "    model.add(Dense(50, kernel_initializer='he_normal'))                            \n",
        "    model.add(Activation('sigmoid'))    \n",
        "    model.add(Dense(50, kernel_initializer='he_normal'))                            \n",
        "    model.add(Activation('sigmoid'))    \n",
        "    model.add(Dense(50, kernel_initializer='he_normal'))                            \n",
        "    model.add(Activation('sigmoid'))    \n",
        "    model.add(Dense(10, kernel_initializer='he_normal'))                           \n",
        "    model.add(Activation('softmax'))\n",
        "    \n",
        "    sgd = optimizers.SGD(learning_rate = 0.001)\n",
        "    model.compile(optimizer = sgd, loss = 'categorical_crossentropy', metrics = ['accuracy'])\n",
        "    \n",
        "    return model"
      ],
      "metadata": {
        "id": "ZyH6U2yoCOOy"
      },
      "execution_count": 304,
      "outputs": []
    },
    {
      "cell_type": "code",
      "source": [
        "model = nn_model()\n",
        "history = model.fit(X_trainb, y_train2, batch_size=200, epochs = 100, verbose = 1)"
      ],
      "metadata": {
        "colab": {
          "base_uri": "https://localhost:8080/"
        },
        "id": "6YQLD5ZQCOZD",
        "outputId": "ef158cc6-06b3-45e5-960b-b7eda467f32e"
      },
      "execution_count": 305,
      "outputs": [
        {
          "output_type": "stream",
          "name": "stdout",
          "text": [
            "Epoch 1/100\n",
            "210/210 [==============================] - 2s 6ms/step - loss: 2.6362 - accuracy: 0.0999\n",
            "Epoch 2/100\n",
            "210/210 [==============================] - 1s 4ms/step - loss: 2.4968 - accuracy: 0.0999\n",
            "Epoch 3/100\n",
            "210/210 [==============================] - 1s 4ms/step - loss: 2.4163 - accuracy: 0.0999\n",
            "Epoch 4/100\n",
            "210/210 [==============================] - 1s 4ms/step - loss: 2.3681 - accuracy: 0.0999\n",
            "Epoch 5/100\n",
            "210/210 [==============================] - 1s 4ms/step - loss: 2.3394 - accuracy: 0.0999\n",
            "Epoch 6/100\n",
            "210/210 [==============================] - 1s 4ms/step - loss: 2.3228 - accuracy: 0.0999\n",
            "Epoch 7/100\n",
            "210/210 [==============================] - 1s 4ms/step - loss: 2.3134 - accuracy: 0.0999\n",
            "Epoch 8/100\n",
            "210/210 [==============================] - 1s 4ms/step - loss: 2.3083 - accuracy: 0.0994\n",
            "Epoch 9/100\n",
            "210/210 [==============================] - 1s 4ms/step - loss: 2.3055 - accuracy: 0.0988\n",
            "Epoch 10/100\n",
            "210/210 [==============================] - 1s 4ms/step - loss: 2.3041 - accuracy: 0.1000\n",
            "Epoch 11/100\n",
            "210/210 [==============================] - 1s 4ms/step - loss: 2.3033 - accuracy: 0.1015\n",
            "Epoch 12/100\n",
            "210/210 [==============================] - 1s 4ms/step - loss: 2.3030 - accuracy: 0.1007\n",
            "Epoch 13/100\n",
            "210/210 [==============================] - 1s 4ms/step - loss: 2.3028 - accuracy: 0.0985\n",
            "Epoch 14/100\n",
            "210/210 [==============================] - 1s 5ms/step - loss: 2.3027 - accuracy: 0.0994\n",
            "Epoch 15/100\n",
            "210/210 [==============================] - 1s 6ms/step - loss: 2.3026 - accuracy: 0.0999\n",
            "Epoch 16/100\n",
            "210/210 [==============================] - 1s 5ms/step - loss: 2.3026 - accuracy: 0.1013\n",
            "Epoch 17/100\n",
            "210/210 [==============================] - 1s 4ms/step - loss: 2.3026 - accuracy: 0.1016\n",
            "Epoch 18/100\n",
            "210/210 [==============================] - 1s 4ms/step - loss: 2.3026 - accuracy: 0.1014\n",
            "Epoch 19/100\n",
            "210/210 [==============================] - 1s 4ms/step - loss: 2.3026 - accuracy: 0.1016\n",
            "Epoch 20/100\n",
            "210/210 [==============================] - 1s 4ms/step - loss: 2.3026 - accuracy: 0.1015\n",
            "Epoch 21/100\n",
            "210/210 [==============================] - 1s 4ms/step - loss: 2.3026 - accuracy: 0.1014\n",
            "Epoch 22/100\n",
            "210/210 [==============================] - 1s 4ms/step - loss: 2.3026 - accuracy: 0.1015\n",
            "Epoch 23/100\n",
            "210/210 [==============================] - 1s 4ms/step - loss: 2.3026 - accuracy: 0.1017\n",
            "Epoch 24/100\n",
            "210/210 [==============================] - 1s 4ms/step - loss: 2.3026 - accuracy: 0.1005\n",
            "Epoch 25/100\n",
            "210/210 [==============================] - 1s 3ms/step - loss: 2.3026 - accuracy: 0.1006\n",
            "Epoch 26/100\n",
            "210/210 [==============================] - 1s 4ms/step - loss: 2.3026 - accuracy: 0.1017\n",
            "Epoch 27/100\n",
            "210/210 [==============================] - 1s 4ms/step - loss: 2.3026 - accuracy: 0.1018\n",
            "Epoch 28/100\n",
            "210/210 [==============================] - 1s 4ms/step - loss: 2.3026 - accuracy: 0.1017\n",
            "Epoch 29/100\n",
            "210/210 [==============================] - 1s 6ms/step - loss: 2.3026 - accuracy: 0.1020\n",
            "Epoch 30/100\n",
            "210/210 [==============================] - 1s 6ms/step - loss: 2.3026 - accuracy: 0.1017\n",
            "Epoch 31/100\n",
            "210/210 [==============================] - 1s 4ms/step - loss: 2.3026 - accuracy: 0.1011\n",
            "Epoch 32/100\n",
            "210/210 [==============================] - 1s 4ms/step - loss: 2.3026 - accuracy: 0.1011\n",
            "Epoch 33/100\n",
            "210/210 [==============================] - 1s 4ms/step - loss: 2.3026 - accuracy: 0.1013\n",
            "Epoch 34/100\n",
            "210/210 [==============================] - 1s 4ms/step - loss: 2.3026 - accuracy: 0.1018\n",
            "Epoch 35/100\n",
            "210/210 [==============================] - 1s 4ms/step - loss: 2.3026 - accuracy: 0.1017\n",
            "Epoch 36/100\n",
            "210/210 [==============================] - 1s 4ms/step - loss: 2.3026 - accuracy: 0.1012\n",
            "Epoch 37/100\n",
            "210/210 [==============================] - 1s 4ms/step - loss: 2.3026 - accuracy: 0.1017\n",
            "Epoch 38/100\n",
            "210/210 [==============================] - 1s 4ms/step - loss: 2.3026 - accuracy: 0.1019\n",
            "Epoch 39/100\n",
            "210/210 [==============================] - 1s 4ms/step - loss: 2.3026 - accuracy: 0.1018\n",
            "Epoch 40/100\n",
            "210/210 [==============================] - 1s 4ms/step - loss: 2.3026 - accuracy: 0.1016\n",
            "Epoch 41/100\n",
            "210/210 [==============================] - 1s 4ms/step - loss: 2.3026 - accuracy: 0.1018\n",
            "Epoch 42/100\n",
            "210/210 [==============================] - 1s 4ms/step - loss: 2.3026 - accuracy: 0.1017\n",
            "Epoch 43/100\n",
            "210/210 [==============================] - 1s 5ms/step - loss: 2.3026 - accuracy: 0.1018\n",
            "Epoch 44/100\n",
            "210/210 [==============================] - 1s 6ms/step - loss: 2.3026 - accuracy: 0.1015\n",
            "Epoch 45/100\n",
            "210/210 [==============================] - 1s 6ms/step - loss: 2.3026 - accuracy: 0.1018\n",
            "Epoch 46/100\n",
            "210/210 [==============================] - 1s 4ms/step - loss: 2.3026 - accuracy: 0.1016\n",
            "Epoch 47/100\n",
            "210/210 [==============================] - 1s 4ms/step - loss: 2.3026 - accuracy: 0.1018\n",
            "Epoch 48/100\n",
            "210/210 [==============================] - 1s 4ms/step - loss: 2.3026 - accuracy: 0.1013\n",
            "Epoch 49/100\n",
            "210/210 [==============================] - 1s 4ms/step - loss: 2.3026 - accuracy: 0.1015\n",
            "Epoch 50/100\n",
            "210/210 [==============================] - 1s 4ms/step - loss: 2.3026 - accuracy: 0.1018\n",
            "Epoch 51/100\n",
            "210/210 [==============================] - 1s 4ms/step - loss: 2.3026 - accuracy: 0.1013\n",
            "Epoch 52/100\n",
            "210/210 [==============================] - 1s 4ms/step - loss: 2.3026 - accuracy: 0.1015\n",
            "Epoch 53/100\n",
            "210/210 [==============================] - 1s 4ms/step - loss: 2.3026 - accuracy: 0.1018\n",
            "Epoch 54/100\n",
            "210/210 [==============================] - 1s 4ms/step - loss: 2.3026 - accuracy: 0.1009\n",
            "Epoch 55/100\n",
            "210/210 [==============================] - 1s 4ms/step - loss: 2.3026 - accuracy: 0.1019\n",
            "Epoch 56/100\n",
            "210/210 [==============================] - 1s 4ms/step - loss: 2.3026 - accuracy: 0.1016\n",
            "Epoch 57/100\n",
            "210/210 [==============================] - 1s 4ms/step - loss: 2.3026 - accuracy: 0.1015\n",
            "Epoch 58/100\n",
            "210/210 [==============================] - 1s 6ms/step - loss: 2.3026 - accuracy: 0.1013\n",
            "Epoch 59/100\n",
            "210/210 [==============================] - 1s 6ms/step - loss: 2.3026 - accuracy: 0.1018\n",
            "Epoch 60/100\n",
            "210/210 [==============================] - 1s 4ms/step - loss: 2.3026 - accuracy: 0.1009\n",
            "Epoch 61/100\n",
            "210/210 [==============================] - 1s 4ms/step - loss: 2.3026 - accuracy: 0.1009\n",
            "Epoch 62/100\n",
            "210/210 [==============================] - 1s 4ms/step - loss: 2.3026 - accuracy: 0.1019\n",
            "Epoch 63/100\n",
            "210/210 [==============================] - 1s 4ms/step - loss: 2.3026 - accuracy: 0.1018\n",
            "Epoch 64/100\n",
            "210/210 [==============================] - 1s 4ms/step - loss: 2.3026 - accuracy: 0.1017\n",
            "Epoch 65/100\n",
            "210/210 [==============================] - 1s 4ms/step - loss: 2.3026 - accuracy: 0.1006\n",
            "Epoch 66/100\n",
            "210/210 [==============================] - 1s 4ms/step - loss: 2.3026 - accuracy: 0.1019\n",
            "Epoch 67/100\n",
            "210/210 [==============================] - 1s 4ms/step - loss: 2.3026 - accuracy: 0.1013\n",
            "Epoch 68/100\n",
            "210/210 [==============================] - 1s 4ms/step - loss: 2.3026 - accuracy: 0.1014\n",
            "Epoch 69/100\n",
            "210/210 [==============================] - 1s 4ms/step - loss: 2.3026 - accuracy: 0.1018\n",
            "Epoch 70/100\n",
            "210/210 [==============================] - 1s 4ms/step - loss: 2.3026 - accuracy: 0.1013\n",
            "Epoch 71/100\n",
            "210/210 [==============================] - 1s 4ms/step - loss: 2.3026 - accuracy: 0.1017\n",
            "Epoch 72/100\n",
            "210/210 [==============================] - 1s 5ms/step - loss: 2.3026 - accuracy: 0.1015\n",
            "Epoch 73/100\n",
            "210/210 [==============================] - 1s 6ms/step - loss: 2.3026 - accuracy: 0.1017\n",
            "Epoch 74/100\n",
            "210/210 [==============================] - 1s 5ms/step - loss: 2.3026 - accuracy: 0.1018\n",
            "Epoch 75/100\n",
            "210/210 [==============================] - 1s 4ms/step - loss: 2.3026 - accuracy: 0.1020\n",
            "Epoch 76/100\n",
            "210/210 [==============================] - 1s 4ms/step - loss: 2.3026 - accuracy: 0.1017\n",
            "Epoch 77/100\n",
            "210/210 [==============================] - 1s 4ms/step - loss: 2.3026 - accuracy: 0.1017\n",
            "Epoch 78/100\n",
            "210/210 [==============================] - 1s 4ms/step - loss: 2.3026 - accuracy: 0.1019\n",
            "Epoch 79/100\n",
            "210/210 [==============================] - 1s 4ms/step - loss: 2.3026 - accuracy: 0.1005\n",
            "Epoch 80/100\n",
            "210/210 [==============================] - 1s 4ms/step - loss: 2.3026 - accuracy: 0.1018\n",
            "Epoch 81/100\n",
            "210/210 [==============================] - 1s 4ms/step - loss: 2.3026 - accuracy: 0.1018\n",
            "Epoch 82/100\n",
            "210/210 [==============================] - 1s 4ms/step - loss: 2.3026 - accuracy: 0.1005\n",
            "Epoch 83/100\n",
            "210/210 [==============================] - 1s 4ms/step - loss: 2.3026 - accuracy: 0.1009\n",
            "Epoch 84/100\n",
            "210/210 [==============================] - 1s 4ms/step - loss: 2.3026 - accuracy: 0.1017\n",
            "Epoch 85/100\n",
            "210/210 [==============================] - 1s 4ms/step - loss: 2.3026 - accuracy: 0.1006\n",
            "Epoch 86/100\n",
            "210/210 [==============================] - 1s 4ms/step - loss: 2.3026 - accuracy: 0.1018\n",
            "Epoch 87/100\n",
            "210/210 [==============================] - 1s 6ms/step - loss: 2.3026 - accuracy: 0.1017\n",
            "Epoch 88/100\n",
            "210/210 [==============================] - 1s 6ms/step - loss: 2.3026 - accuracy: 0.1013\n",
            "Epoch 89/100\n",
            "210/210 [==============================] - 1s 4ms/step - loss: 2.3026 - accuracy: 0.1012\n",
            "Epoch 90/100\n",
            "210/210 [==============================] - 1s 4ms/step - loss: 2.3026 - accuracy: 0.1019\n",
            "Epoch 91/100\n",
            "210/210 [==============================] - 1s 4ms/step - loss: 2.3026 - accuracy: 0.1018\n",
            "Epoch 92/100\n",
            "210/210 [==============================] - 1s 4ms/step - loss: 2.3026 - accuracy: 0.1017\n",
            "Epoch 93/100\n",
            "210/210 [==============================] - 1s 4ms/step - loss: 2.3026 - accuracy: 0.1015\n",
            "Epoch 94/100\n",
            "210/210 [==============================] - 1s 4ms/step - loss: 2.3026 - accuracy: 0.1019\n",
            "Epoch 95/100\n",
            "210/210 [==============================] - 1s 4ms/step - loss: 2.3026 - accuracy: 0.1010\n",
            "Epoch 96/100\n",
            "210/210 [==============================] - 1s 4ms/step - loss: 2.3026 - accuracy: 0.1015\n",
            "Epoch 97/100\n",
            "210/210 [==============================] - 1s 4ms/step - loss: 2.3026 - accuracy: 0.1019\n",
            "Epoch 98/100\n",
            "210/210 [==============================] - 1s 4ms/step - loss: 2.3026 - accuracy: 0.1010\n",
            "Epoch 99/100\n",
            "210/210 [==============================] - 1s 4ms/step - loss: 2.3026 - accuracy: 0.1015\n",
            "Epoch 100/100\n",
            "210/210 [==============================] - 1s 4ms/step - loss: 2.3026 - accuracy: 0.1018\n"
          ]
        }
      ]
    },
    {
      "cell_type": "code",
      "source": [
        "results = model.evaluate(X_testb, y_test2)"
      ],
      "metadata": {
        "colab": {
          "base_uri": "https://localhost:8080/"
        },
        "id": "tZ0HsZotCOd4",
        "outputId": "2599b310-d812-4b40-a09a-dc70d32bdf7a"
      },
      "execution_count": 306,
      "outputs": [
        {
          "output_type": "stream",
          "name": "stdout",
          "text": [
            "563/563 [==============================] - 1s 2ms/step - loss: 2.3028 - accuracy: 0.0953\n"
          ]
        }
      ]
    },
    {
      "cell_type": "code",
      "source": [
        "print('Test accuracy: ', results[1])"
      ],
      "metadata": {
        "colab": {
          "base_uri": "https://localhost:8080/"
        },
        "id": "pYUz3o5aED1X",
        "outputId": "f6b359d5-da5e-4f89-9a76-d96d7db53d73"
      },
      "execution_count": 307,
      "outputs": [
        {
          "output_type": "stream",
          "name": "stdout",
          "text": [
            "Test accuracy:  0.09533333033323288\n"
          ]
        }
      ]
    },
    {
      "cell_type": "markdown",
      "source": [
        "##### Activation Function"
      ],
      "metadata": {
        "id": "gQW3zJBxdUhy"
      }
    },
    {
      "cell_type": "code",
      "source": [
        "def nn_model():\n",
        "    model = Sequential()\n",
        "    model.add(Dense(50, input_shape = (X_trainb.shape[1],)))\n",
        "    model.add(Activation('relu'))    \n",
        "    model.add(Dense(50))\n",
        "    model.add(Activation('relu'))    \n",
        "    model.add(Dense(50))\n",
        "    model.add(Activation('relu'))    \n",
        "    model.add(Dense(50))\n",
        "    model.add(Activation('relu'))    \n",
        "    model.add(Dense(10))\n",
        "    model.add(Activation('softmax'))\n",
        "    \n",
        "    sgd = optimizers.SGD(learning_rate = 0.001)\n",
        "    model.compile(optimizer = sgd, loss = 'categorical_crossentropy', metrics = ['accuracy'])\n",
        "    \n",
        "    return model"
      ],
      "metadata": {
        "id": "hp8JZ6ohCTbT"
      },
      "execution_count": 308,
      "outputs": []
    },
    {
      "cell_type": "code",
      "source": [
        "model = nn_model()\n",
        "history = model.fit(X_trainb, y_train2, epochs = 10, verbose = 1)"
      ],
      "metadata": {
        "colab": {
          "base_uri": "https://localhost:8080/"
        },
        "id": "GaNRj8pdCTkx",
        "outputId": "acf0709a-0a3e-426c-d596-96ac56bb1053"
      },
      "execution_count": 309,
      "outputs": [
        {
          "output_type": "stream",
          "name": "stdout",
          "text": [
            "Epoch 1/10\n",
            "1313/1313 [==============================] - 3s 2ms/step - loss: 2.3044 - accuracy: 0.1099\n",
            "Epoch 2/10\n",
            "1313/1313 [==============================] - 2s 2ms/step - loss: 2.2987 - accuracy: 0.1238\n",
            "Epoch 3/10\n",
            "1313/1313 [==============================] - 3s 2ms/step - loss: 2.2959 - accuracy: 0.1349\n",
            "Epoch 4/10\n",
            "1313/1313 [==============================] - 3s 2ms/step - loss: 2.2928 - accuracy: 0.1442\n",
            "Epoch 5/10\n",
            "1313/1313 [==============================] - 3s 3ms/step - loss: 2.2890 - accuracy: 0.1549\n",
            "Epoch 6/10\n",
            "1313/1313 [==============================] - 3s 2ms/step - loss: 2.2841 - accuracy: 0.1663\n",
            "Epoch 7/10\n",
            "1313/1313 [==============================] - 3s 2ms/step - loss: 2.2781 - accuracy: 0.1787\n",
            "Epoch 8/10\n",
            "1313/1313 [==============================] - 2s 2ms/step - loss: 2.2709 - accuracy: 0.1912\n",
            "Epoch 9/10\n",
            "1313/1313 [==============================] - 3s 2ms/step - loss: 2.2621 - accuracy: 0.2038\n",
            "Epoch 10/10\n",
            "1313/1313 [==============================] - 3s 2ms/step - loss: 2.2507 - accuracy: 0.2171\n"
          ]
        }
      ]
    },
    {
      "cell_type": "code",
      "source": [
        "results = model.evaluate(X_testb, y_test2)"
      ],
      "metadata": {
        "colab": {
          "base_uri": "https://localhost:8080/"
        },
        "id": "L5rsFQZGCTr7",
        "outputId": "58184cfa-9d35-4076-a02f-6143907276c8"
      },
      "execution_count": 310,
      "outputs": [
        {
          "output_type": "stream",
          "name": "stdout",
          "text": [
            "563/563 [==============================] - 1s 1ms/step - loss: 2.2421 - accuracy: 0.2249\n"
          ]
        }
      ]
    },
    {
      "cell_type": "code",
      "source": [
        "print('Test accuracy: ', results[1])"
      ],
      "metadata": {
        "colab": {
          "base_uri": "https://localhost:8080/"
        },
        "id": "jitBOlvZCTyY",
        "outputId": "df22c335-fb0e-4650-d0a2-42982edd7434"
      },
      "execution_count": 311,
      "outputs": [
        {
          "output_type": "stream",
          "name": "stdout",
          "text": [
            "Test accuracy:  0.22494444251060486\n"
          ]
        }
      ]
    },
    {
      "cell_type": "markdown",
      "source": [
        "##### Batch normalization"
      ],
      "metadata": {
        "id": "HAOPznLvdfod"
      }
    },
    {
      "cell_type": "code",
      "source": [
        "from tensorflow.keras.layers import BatchNormalization, Dropout"
      ],
      "metadata": {
        "id": "SlocA79vCT5v"
      },
      "execution_count": 312,
      "outputs": []
    },
    {
      "cell_type": "code",
      "source": [
        "def nn_model():\n",
        "    model = Sequential()   \n",
        "    model.add(Dense(50, input_shape = (X_trainb.shape[1],)))\n",
        "    model.add(BatchNormalization())                    \n",
        "    model.add(Activation('relu'))    \n",
        "    model.add(Dense(50))\n",
        "    model.add(BatchNormalization())                    \n",
        "    model.add(Activation('relu'))    \n",
        "    model.add(Dense(50))\n",
        "    model.add(BatchNormalization())                    \n",
        "    model.add(Activation('relu'))    \n",
        "    model.add(Dense(50))\n",
        "    model.add(BatchNormalization())                    \n",
        "    model.add(Activation('relu'))    \n",
        "    model.add(Dense(10))\n",
        "    model.add(Activation('softmax'))\n",
        "    \n",
        "    sgd = optimizers.SGD(learning_rate = 0.001)\n",
        "    model.compile(optimizer = sgd, loss = 'categorical_crossentropy', metrics = ['accuracy'])\n",
        "    \n",
        "    return model"
      ],
      "metadata": {
        "id": "QezK6mcrFoAU"
      },
      "execution_count": 313,
      "outputs": []
    },
    {
      "cell_type": "code",
      "source": [
        "model = nn_model()\n",
        "history = model.fit(X_trainb, y_train2, epochs = 20, verbose = 1)"
      ],
      "metadata": {
        "colab": {
          "base_uri": "https://localhost:8080/"
        },
        "id": "sagqYs5oFoDM",
        "outputId": "d19b62d0-17a7-468d-9723-2b75fd3193bc"
      },
      "execution_count": 314,
      "outputs": [
        {
          "output_type": "stream",
          "name": "stdout",
          "text": [
            "Epoch 1/20\n",
            "1313/1313 [==============================] - 4s 2ms/step - loss: 2.3772 - accuracy: 0.1341\n",
            "Epoch 2/20\n",
            "1313/1313 [==============================] - 4s 3ms/step - loss: 2.1368 - accuracy: 0.2322\n",
            "Epoch 3/20\n",
            "1313/1313 [==============================] - 3s 3ms/step - loss: 1.9440 - accuracy: 0.3264\n",
            "Epoch 4/20\n",
            "1313/1313 [==============================] - 3s 2ms/step - loss: 1.7912 - accuracy: 0.4012\n",
            "Epoch 5/20\n",
            "1313/1313 [==============================] - 4s 3ms/step - loss: 1.6658 - accuracy: 0.4540\n",
            "Epoch 6/20\n",
            "1313/1313 [==============================] - 4s 3ms/step - loss: 1.5678 - accuracy: 0.4968\n",
            "Epoch 7/20\n",
            "1313/1313 [==============================] - 3s 2ms/step - loss: 1.4835 - accuracy: 0.5291\n",
            "Epoch 8/20\n",
            "1313/1313 [==============================] - 3s 2ms/step - loss: 1.4141 - accuracy: 0.5515\n",
            "Epoch 9/20\n",
            "1313/1313 [==============================] - 4s 3ms/step - loss: 1.3575 - accuracy: 0.5712\n",
            "Epoch 10/20\n",
            "1313/1313 [==============================] - 3s 2ms/step - loss: 1.3105 - accuracy: 0.5880\n",
            "Epoch 11/20\n",
            "1313/1313 [==============================] - 3s 3ms/step - loss: 1.2708 - accuracy: 0.6020\n",
            "Epoch 12/20\n",
            "1313/1313 [==============================] - 3s 2ms/step - loss: 1.2373 - accuracy: 0.6096\n",
            "Epoch 13/20\n",
            "1313/1313 [==============================] - 4s 3ms/step - loss: 1.2034 - accuracy: 0.6208\n",
            "Epoch 14/20\n",
            "1313/1313 [==============================] - 3s 2ms/step - loss: 1.1721 - accuracy: 0.6315\n",
            "Epoch 15/20\n",
            "1313/1313 [==============================] - 3s 2ms/step - loss: 1.1514 - accuracy: 0.6360\n",
            "Epoch 16/20\n",
            "1313/1313 [==============================] - 4s 3ms/step - loss: 1.1258 - accuracy: 0.6481\n",
            "Epoch 17/20\n",
            "1313/1313 [==============================] - 4s 3ms/step - loss: 1.1047 - accuracy: 0.6530\n",
            "Epoch 18/20\n",
            "1313/1313 [==============================] - 3s 3ms/step - loss: 1.0896 - accuracy: 0.6553\n",
            "Epoch 19/20\n",
            "1313/1313 [==============================] - 3s 2ms/step - loss: 1.0662 - accuracy: 0.6669\n",
            "Epoch 20/20\n",
            "1313/1313 [==============================] - 4s 3ms/step - loss: 1.0512 - accuracy: 0.6701\n"
          ]
        }
      ]
    },
    {
      "cell_type": "code",
      "source": [
        "results = model.evaluate(X_testb, y_test2)"
      ],
      "metadata": {
        "colab": {
          "base_uri": "https://localhost:8080/"
        },
        "id": "pH7ozHENFoGR",
        "outputId": "82d95d31-22e7-46c1-842c-77a19d684b30"
      },
      "execution_count": 315,
      "outputs": [
        {
          "output_type": "stream",
          "name": "stdout",
          "text": [
            "563/563 [==============================] - 1s 1ms/step - loss: 1.0766 - accuracy: 0.6523\n"
          ]
        }
      ]
    },
    {
      "cell_type": "code",
      "source": [
        "print('Test accuracy: ', results[1])"
      ],
      "metadata": {
        "colab": {
          "base_uri": "https://localhost:8080/"
        },
        "id": "ENyd_ouCFoIe",
        "outputId": "d035e8b7-3db1-454f-bff2-86a22c0889de"
      },
      "execution_count": 316,
      "outputs": [
        {
          "output_type": "stream",
          "name": "stdout",
          "text": [
            "Test accuracy:  0.6522777676582336\n"
          ]
        }
      ]
    },
    {
      "cell_type": "markdown",
      "source": [
        "#### Dropout"
      ],
      "metadata": {
        "id": "KM7aXD_DFoMD"
      }
    },
    {
      "cell_type": "code",
      "source": [
        "def nn_model():\n",
        "    model = Sequential()\n",
        "    model.add(Dense(50, input_shape = (X_trainb.shape[1],), kernel_initializer='he_normal'))\n",
        "    model.add(BatchNormalization())\n",
        "    model.add(Activation('relu'))\n",
        "    model.add(Dropout(0.2))\n",
        "    model.add(Dense(50, kernel_initializer='he_normal'))\n",
        "    model.add(BatchNormalization())\n",
        "    model.add(Activation('relu'))    \n",
        "    model.add(Dropout(0.2))\n",
        "    model.add(Dense(50, kernel_initializer='he_normal'))\n",
        "    model.add(BatchNormalization())\n",
        "    model.add(Activation('relu'))\n",
        "    model.add(Dropout(0.2))\n",
        "    model.add(Dense(50, kernel_initializer='he_normal'))\n",
        "    model.add(BatchNormalization())\n",
        "    model.add(Activation('relu'))\n",
        "    model.add(Dropout(0.2))\n",
        "    model.add(Dense(10, kernel_initializer='he_normal'))\n",
        "    model.add(Activation('softmax'))\n",
        "    \n",
        "    adam = optimizers.Adam(learning_rate = 0.001)\n",
        "    model.compile(optimizer = adam, loss = 'categorical_crossentropy', metrics = ['accuracy'])\n",
        "    \n",
        "    return model"
      ],
      "metadata": {
        "id": "-DeDpEEjFoOx"
      },
      "execution_count": 317,
      "outputs": []
    },
    {
      "cell_type": "markdown",
      "source": [
        "#### Part B- Q3 B -Train the classifier using previously designed Architecture (Use best suitable parameters)"
      ],
      "metadata": {
        "id": "2ReIcAQSHrDC"
      }
    },
    {
      "cell_type": "code",
      "source": [
        "model_final = nn_model()\n",
        "history_final = model_final.fit(X_trainb, y_train2, epochs = 10, verbose = 1)"
      ],
      "metadata": {
        "colab": {
          "base_uri": "https://localhost:8080/"
        },
        "id": "eppbloijGAD7",
        "outputId": "42b212e6-cd67-4acb-b489-711fcfe563c5"
      },
      "execution_count": 318,
      "outputs": [
        {
          "output_type": "stream",
          "name": "stdout",
          "text": [
            "Epoch 1/10\n",
            "1313/1313 [==============================] - 6s 3ms/step - loss: 2.1776 - accuracy: 0.1991\n",
            "Epoch 2/10\n",
            "1313/1313 [==============================] - 5s 4ms/step - loss: 1.7741 - accuracy: 0.3646\n",
            "Epoch 3/10\n",
            "1313/1313 [==============================] - 4s 3ms/step - loss: 1.6019 - accuracy: 0.4440\n",
            "Epoch 4/10\n",
            "1313/1313 [==============================] - 4s 3ms/step - loss: 1.5008 - accuracy: 0.4880\n",
            "Epoch 5/10\n",
            "1313/1313 [==============================] - 5s 4ms/step - loss: 1.4476 - accuracy: 0.5102\n",
            "Epoch 6/10\n",
            "1313/1313 [==============================] - 4s 3ms/step - loss: 1.4060 - accuracy: 0.5303\n",
            "Epoch 7/10\n",
            "1313/1313 [==============================] - 4s 3ms/step - loss: 1.3669 - accuracy: 0.5451\n",
            "Epoch 8/10\n",
            "1313/1313 [==============================] - 5s 4ms/step - loss: 1.3263 - accuracy: 0.5664\n",
            "Epoch 9/10\n",
            "1313/1313 [==============================] - 4s 3ms/step - loss: 1.2973 - accuracy: 0.5788\n",
            "Epoch 10/10\n",
            "1313/1313 [==============================] - 5s 4ms/step - loss: 1.2761 - accuracy: 0.5877\n"
          ]
        }
      ]
    },
    {
      "cell_type": "code",
      "source": [
        "results = model_final.evaluate(X_testb, y_test2)"
      ],
      "metadata": {
        "colab": {
          "base_uri": "https://localhost:8080/"
        },
        "id": "vXX9TzK6GA2n",
        "outputId": "7bbdc336-5586-40ff-8232-9724f1a418e6"
      },
      "execution_count": 319,
      "outputs": [
        {
          "output_type": "stream",
          "name": "stdout",
          "text": [
            "563/563 [==============================] - 1s 1ms/step - loss: 1.0627 - accuracy: 0.6654\n"
          ]
        }
      ]
    },
    {
      "cell_type": "code",
      "source": [
        "print('Test accuracy: ', results[1])"
      ],
      "metadata": {
        "colab": {
          "base_uri": "https://localhost:8080/"
        },
        "id": "h2ikVXHnGKhn",
        "outputId": "3af424a3-5976-45e5-b4f9-b98ed9dae9b3"
      },
      "execution_count": 320,
      "outputs": [
        {
          "output_type": "stream",
          "name": "stdout",
          "text": [
            "Test accuracy:  0.6653888821601868\n"
          ]
        }
      ]
    },
    {
      "cell_type": "markdown",
      "source": [
        "#### Part B - Q3 C -Evaluate performance of the model with appropriate metrics."
      ],
      "metadata": {
        "id": "wip86NL_N-Gv"
      }
    },
    {
      "cell_type": "code",
      "source": [
        "y_pred = model_final.predict(X_testb)\n",
        "y_pred"
      ],
      "metadata": {
        "colab": {
          "base_uri": "https://localhost:8080/"
        },
        "id": "GNRLdiA2uxb_",
        "outputId": "7fb445ac-2e64-4d62-c3ef-adc5e5457114"
      },
      "execution_count": 321,
      "outputs": [
        {
          "output_type": "stream",
          "name": "stdout",
          "text": [
            "563/563 [==============================] - 1s 1ms/step\n"
          ]
        },
        {
          "output_type": "execute_result",
          "data": {
            "text/plain": [
              "array([[6.54923096e-02, 3.15763280e-02, 1.20274805e-01, ...,\n",
              "        4.82647941e-02, 1.12633020e-01, 3.60925734e-01],\n",
              "       [2.85920571e-03, 8.71159881e-03, 4.97545421e-01, ...,\n",
              "        4.41156089e-01, 1.31541686e-02, 6.42977562e-03],\n",
              "       [7.56298797e-03, 5.60346618e-03, 7.99231768e-01, ...,\n",
              "        5.97324669e-02, 1.29601303e-02, 2.09578928e-02],\n",
              "       ...,\n",
              "       [6.04027649e-04, 1.16708532e-01, 2.34858226e-02, ...,\n",
              "        8.42978656e-01, 4.53361310e-04, 2.78738770e-03],\n",
              "       [1.64737757e-02, 1.33324722e-02, 2.47823615e-02, ...,\n",
              "        1.13033531e-02, 6.27806261e-02, 6.97893918e-01],\n",
              "       [3.26996529e-03, 9.66397487e-03, 8.48891139e-01, ...,\n",
              "        7.32423142e-02, 1.29559804e-02, 2.43585370e-02]], dtype=float32)"
            ]
          },
          "metadata": {},
          "execution_count": 321
        }
      ]
    },
    {
      "cell_type": "code",
      "source": [
        "from sklearn import metrics\n",
        "from sklearn.metrics import confusion_matrix\n",
        "\n",
        "y_pred=model.predict(X_testb) \n",
        "y_pred=np.argmax(y_pred, axis=1)\n",
        "y_test=np.argmax(y_test2, axis=1)\n",
        "cm = confusion_matrix(y_testb, y_pred)\n",
        "print(cm)"
      ],
      "metadata": {
        "colab": {
          "base_uri": "https://localhost:8080/"
        },
        "id": "moQ9sqS9apNN",
        "outputId": "2ec93824-413f-4d4b-99e1-cdc5fee2d0ee"
      },
      "execution_count": 322,
      "outputs": [
        {
          "output_type": "stream",
          "name": "stdout",
          "text": [
            "563/563 [==============================] - 1s 1ms/step\n",
            "[[1114  129   35   52   18   17   71   76  147  155]\n",
            " [  20 1450   21   44   37   15   20  122   69   30]\n",
            " [  14   83 1209   49   30   15   12  257   62   72]\n",
            " [  16  107   72  972   15  171   16  117  192   41]\n",
            " [  35  174   35   20 1226   21   84   33  123   61]\n",
            " [  29   78   31  116   17  934  101   42  303  117]\n",
            " [  60   68   18   20   50   49 1015   29  479   44]\n",
            " [  12  109   91   22    9   13    7 1433   54   58]\n",
            " [  59  116   45   33   32   60  121   36 1214   96]\n",
            " [ 102  126   53   37   20   55   24   79  134 1174]]\n"
          ]
        }
      ]
    },
    {
      "cell_type": "code",
      "source": [
        "from sklearn.metrics import classification_report\n",
        "\n",
        "print('Classification Report'); print('--'*40)\n",
        "print(classification_report(y_testb, y_pred))"
      ],
      "metadata": {
        "colab": {
          "base_uri": "https://localhost:8080/"
        },
        "id": "gJa0T5rybU0F",
        "outputId": "bb79fb40-0c5f-4d61-d6bf-5554afc223df"
      },
      "execution_count": 323,
      "outputs": [
        {
          "output_type": "stream",
          "name": "stdout",
          "text": [
            "Classification Report\n",
            "--------------------------------------------------------------------------------\n",
            "              precision    recall  f1-score   support\n",
            "\n",
            "           0       0.76      0.61      0.68      1814\n",
            "           1       0.59      0.79      0.68      1828\n",
            "           2       0.75      0.67      0.71      1803\n",
            "           3       0.71      0.57      0.63      1719\n",
            "           4       0.84      0.68      0.75      1812\n",
            "           5       0.69      0.53      0.60      1768\n",
            "           6       0.69      0.55      0.61      1832\n",
            "           7       0.64      0.79      0.71      1808\n",
            "           8       0.44      0.67      0.53      1812\n",
            "           9       0.64      0.65      0.64      1804\n",
            "\n",
            "    accuracy                           0.65     18000\n",
            "   macro avg       0.68      0.65      0.65     18000\n",
            "weighted avg       0.68      0.65      0.65     18000\n",
            "\n"
          ]
        }
      ]
    },
    {
      "cell_type": "markdown",
      "source": [
        "### Part B - Q3 D - Plot the training loss, validation loss vs number of epochs and training accuracy, validation accuracy vs number of epochs plot and write your observations on the same.\n"
      ],
      "metadata": {
        "id": "jq_9xSyj2l5G"
      }
    },
    {
      "cell_type": "code",
      "source": [
        "import keras\n",
        "from matplotlib import pyplot as plt\n",
        "\n",
        "history = model_final.fit(X_trainb, y_train2, epochs = 10, verbose = 1)"
      ],
      "metadata": {
        "colab": {
          "base_uri": "https://localhost:8080/"
        },
        "id": "kD4vqwsWOfUz",
        "outputId": "7c4ed02a-5726-4665-8a89-f9712d3a8efa"
      },
      "execution_count": 324,
      "outputs": [
        {
          "output_type": "stream",
          "name": "stdout",
          "text": [
            "Epoch 1/10\n",
            "1313/1313 [==============================] - 4s 3ms/step - loss: 1.2436 - accuracy: 0.6008\n",
            "Epoch 2/10\n",
            "1313/1313 [==============================] - 5s 4ms/step - loss: 1.2350 - accuracy: 0.6091\n",
            "Epoch 3/10\n",
            "1313/1313 [==============================] - 4s 3ms/step - loss: 1.2126 - accuracy: 0.6147\n",
            "Epoch 4/10\n",
            "1313/1313 [==============================] - 4s 3ms/step - loss: 1.2023 - accuracy: 0.6221\n",
            "Epoch 5/10\n",
            "1313/1313 [==============================] - 5s 4ms/step - loss: 1.1852 - accuracy: 0.6255\n",
            "Epoch 6/10\n",
            "1313/1313 [==============================] - 4s 3ms/step - loss: 1.1820 - accuracy: 0.6287\n",
            "Epoch 7/10\n",
            "1313/1313 [==============================] - 5s 4ms/step - loss: 1.1657 - accuracy: 0.6334\n",
            "Epoch 8/10\n",
            "1313/1313 [==============================] - 5s 4ms/step - loss: 1.1611 - accuracy: 0.6334\n",
            "Epoch 9/10\n",
            "1313/1313 [==============================] - 4s 3ms/step - loss: 1.1576 - accuracy: 0.6317\n",
            "Epoch 10/10\n",
            "1313/1313 [==============================] - 5s 4ms/step - loss: 1.1445 - accuracy: 0.6397\n"
          ]
        }
      ]
    },
    {
      "cell_type": "code",
      "source": [
        "history.history.keys()"
      ],
      "metadata": {
        "colab": {
          "base_uri": "https://localhost:8080/"
        },
        "id": "x4ygQ3_rTp26",
        "outputId": "4d7041ca-5f7b-4758-c95e-fd8ee08bff29"
      },
      "execution_count": 325,
      "outputs": [
        {
          "output_type": "execute_result",
          "data": {
            "text/plain": [
              "dict_keys(['loss', 'accuracy'])"
            ]
          },
          "metadata": {},
          "execution_count": 325
        }
      ]
    },
    {
      "cell_type": "code",
      "source": [
        "plt.plot(history.history['accuracy'])\n",
        "plt.plot(history.history['val_accuracy'])\n",
        "plt.title('model accuracy')\n",
        "plt.ylabel('accuracy')\n",
        "plt.xlabel('epoch')\n",
        "plt.legend(['train', 'val'], loc='upper left')\n",
        "plt.show()"
      ],
      "metadata": {
        "colab": {
          "base_uri": "https://localhost:8080/",
          "height": 648
        },
        "id": "4H5wbW0WTeBi",
        "outputId": "213e8e3e-9a2e-4a0f-df19-a999a1e755e8"
      },
      "execution_count": 326,
      "outputs": [
        {
          "output_type": "error",
          "ename": "KeyError",
          "evalue": "ignored",
          "traceback": [
            "\u001b[0;31m---------------------------------------------------------------------------\u001b[0m",
            "\u001b[0;31mKeyError\u001b[0m                                  Traceback (most recent call last)",
            "\u001b[0;32m<ipython-input-326-38c894c7c43f>\u001b[0m in \u001b[0;36m<cell line: 2>\u001b[0;34m()\u001b[0m\n\u001b[1;32m      1\u001b[0m \u001b[0mplt\u001b[0m\u001b[0;34m.\u001b[0m\u001b[0mplot\u001b[0m\u001b[0;34m(\u001b[0m\u001b[0mhistory\u001b[0m\u001b[0;34m.\u001b[0m\u001b[0mhistory\u001b[0m\u001b[0;34m[\u001b[0m\u001b[0;34m'accuracy'\u001b[0m\u001b[0;34m]\u001b[0m\u001b[0;34m)\u001b[0m\u001b[0;34m\u001b[0m\u001b[0;34m\u001b[0m\u001b[0m\n\u001b[0;32m----> 2\u001b[0;31m \u001b[0mplt\u001b[0m\u001b[0;34m.\u001b[0m\u001b[0mplot\u001b[0m\u001b[0;34m(\u001b[0m\u001b[0mhistory\u001b[0m\u001b[0;34m.\u001b[0m\u001b[0mhistory\u001b[0m\u001b[0;34m[\u001b[0m\u001b[0;34m'val_accuracy'\u001b[0m\u001b[0;34m]\u001b[0m\u001b[0;34m)\u001b[0m\u001b[0;34m\u001b[0m\u001b[0;34m\u001b[0m\u001b[0m\n\u001b[0m\u001b[1;32m      3\u001b[0m \u001b[0mplt\u001b[0m\u001b[0;34m.\u001b[0m\u001b[0mtitle\u001b[0m\u001b[0;34m(\u001b[0m\u001b[0;34m'model accuracy'\u001b[0m\u001b[0;34m)\u001b[0m\u001b[0;34m\u001b[0m\u001b[0;34m\u001b[0m\u001b[0m\n\u001b[1;32m      4\u001b[0m \u001b[0mplt\u001b[0m\u001b[0;34m.\u001b[0m\u001b[0mylabel\u001b[0m\u001b[0;34m(\u001b[0m\u001b[0;34m'accuracy'\u001b[0m\u001b[0;34m)\u001b[0m\u001b[0;34m\u001b[0m\u001b[0;34m\u001b[0m\u001b[0m\n\u001b[1;32m      5\u001b[0m \u001b[0mplt\u001b[0m\u001b[0;34m.\u001b[0m\u001b[0mxlabel\u001b[0m\u001b[0;34m(\u001b[0m\u001b[0;34m'epoch'\u001b[0m\u001b[0;34m)\u001b[0m\u001b[0;34m\u001b[0m\u001b[0;34m\u001b[0m\u001b[0m\n",
            "\u001b[0;31mKeyError\u001b[0m: 'val_accuracy'"
          ]
        },
        {
          "output_type": "display_data",
          "data": {
            "text/plain": [
              "<Figure size 640x480 with 1 Axes>"
            ],
            "image/png": "[encoded data removed]"
          },
          "metadata": {}
        }
      ]
    },
    {
      "cell_type": "code",
      "source": [
        "plt.plot(history.history['loss'])\n",
        "plt.plot(history.history['val_loss'])\n",
        "plt.title('model loss')\n",
        "plt.ylabel('loss')\n",
        "plt.xlabel('epoch')\n",
        "plt.legend(['train', 'val'], loc='upper left')\n",
        "plt.show()"
      ],
      "metadata": {
        "colab": {
          "base_uri": "https://localhost:8080/",
          "height": 648
        },
        "id": "TburY8g-RZXO",
        "outputId": "b60b2178-327d-4f81-fbcb-a5bacb29566b"
      },
      "execution_count": 327,
      "outputs": [
        {
          "output_type": "error",
          "ename": "KeyError",
          "evalue": "ignored",
          "traceback": [
            "\u001b[0;31m---------------------------------------------------------------------------\u001b[0m",
            "\u001b[0;31mKeyError\u001b[0m                                  Traceback (most recent call last)",
            "\u001b[0;32m<ipython-input-327-ab96b52b49b2>\u001b[0m in \u001b[0;36m<cell line: 2>\u001b[0;34m()\u001b[0m\n\u001b[1;32m      1\u001b[0m \u001b[0mplt\u001b[0m\u001b[0;34m.\u001b[0m\u001b[0mplot\u001b[0m\u001b[0;34m(\u001b[0m\u001b[0mhistory\u001b[0m\u001b[0;34m.\u001b[0m\u001b[0mhistory\u001b[0m\u001b[0;34m[\u001b[0m\u001b[0;34m'loss'\u001b[0m\u001b[0;34m]\u001b[0m\u001b[0;34m)\u001b[0m\u001b[0;34m\u001b[0m\u001b[0;34m\u001b[0m\u001b[0m\n\u001b[0;32m----> 2\u001b[0;31m \u001b[0mplt\u001b[0m\u001b[0;34m.\u001b[0m\u001b[0mplot\u001b[0m\u001b[0;34m(\u001b[0m\u001b[0mhistory\u001b[0m\u001b[0;34m.\u001b[0m\u001b[0mhistory\u001b[0m\u001b[0;34m[\u001b[0m\u001b[0;34m'val_loss'\u001b[0m\u001b[0;34m]\u001b[0m\u001b[0;34m)\u001b[0m\u001b[0;34m\u001b[0m\u001b[0;34m\u001b[0m\u001b[0m\n\u001b[0m\u001b[1;32m      3\u001b[0m \u001b[0mplt\u001b[0m\u001b[0;34m.\u001b[0m\u001b[0mtitle\u001b[0m\u001b[0;34m(\u001b[0m\u001b[0;34m'model loss'\u001b[0m\u001b[0;34m)\u001b[0m\u001b[0;34m\u001b[0m\u001b[0;34m\u001b[0m\u001b[0m\n\u001b[1;32m      4\u001b[0m \u001b[0mplt\u001b[0m\u001b[0;34m.\u001b[0m\u001b[0mylabel\u001b[0m\u001b[0;34m(\u001b[0m\u001b[0;34m'loss'\u001b[0m\u001b[0;34m)\u001b[0m\u001b[0;34m\u001b[0m\u001b[0;34m\u001b[0m\u001b[0m\n\u001b[1;32m      5\u001b[0m \u001b[0mplt\u001b[0m\u001b[0;34m.\u001b[0m\u001b[0mxlabel\u001b[0m\u001b[0;34m(\u001b[0m\u001b[0;34m'epoch'\u001b[0m\u001b[0;34m)\u001b[0m\u001b[0;34m\u001b[0m\u001b[0;34m\u001b[0m\u001b[0m\n",
            "\u001b[0;31mKeyError\u001b[0m: 'val_loss'"
          ]
        },
        {
          "output_type": "display_data",
          "data": {
            "text/plain": [
              "<Figure size 640x480 with 1 Axes>"
            ],
            "image/png": "[encoded data removed]"
          },
          "metadata": {}
        }
      ]
    },
    {
      "cell_type": "markdown",
      "source": [
        "#### Observations\n",
        "<li> Initially the accuracy was very low (17%) and it got improved to 65% after dropout. Further improvement of accuracy can be done by using hypertuning techniques.\n",
        "<li> The Training accuracy and loss are plotted with respect to epoches.\n",
        "Note: The validatio accuracy and loss are not available due to the unavailability of keywords."
      ],
      "metadata": {
        "id": "g3r9g2aEJgKt"
      }
    }
  ]
}